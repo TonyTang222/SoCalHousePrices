{
 "cells": [
  {
   "cell_type": "code",
   "execution_count": 1,
   "id": "db6c28c1-1178-45f8-b230-a52e5f188bd5",
   "metadata": {},
   "outputs": [],
   "source": [
    "import pandas as pd\n",
    "import numpy as np\n",
    "from matplotlib import pyplot as plt\n",
    "%matplotlib inline\n",
    "import matplotlib \n",
    "matplotlib.rcParams[\"figure.figsize\"] = (20,10)"
   ]
  },
  {
   "cell_type": "code",
   "execution_count": 2,
   "id": "b3ece524-f459-4d5a-9215-0e848f7f161b",
   "metadata": {},
   "outputs": [
    {
     "data": {
      "text/html": [
       "<div>\n",
       "<style scoped>\n",
       "    .dataframe tbody tr th:only-of-type {\n",
       "        vertical-align: middle;\n",
       "    }\n",
       "\n",
       "    .dataframe tbody tr th {\n",
       "        vertical-align: top;\n",
       "    }\n",
       "\n",
       "    .dataframe thead th {\n",
       "        text-align: right;\n",
       "    }\n",
       "</style>\n",
       "<table border=\"1\" class=\"dataframe\">\n",
       "  <thead>\n",
       "    <tr style=\"text-align: right;\">\n",
       "      <th></th>\n",
       "      <th>image_id</th>\n",
       "      <th>street</th>\n",
       "      <th>citi</th>\n",
       "      <th>n_citi</th>\n",
       "      <th>bed</th>\n",
       "      <th>bath</th>\n",
       "      <th>sqft</th>\n",
       "      <th>price</th>\n",
       "    </tr>\n",
       "  </thead>\n",
       "  <tbody>\n",
       "    <tr>\n",
       "      <th>0</th>\n",
       "      <td>0</td>\n",
       "      <td>1317 Van Buren Avenue</td>\n",
       "      <td>Salton City, CA</td>\n",
       "      <td>317</td>\n",
       "      <td>3</td>\n",
       "      <td>2.0</td>\n",
       "      <td>1560</td>\n",
       "      <td>201900</td>\n",
       "    </tr>\n",
       "    <tr>\n",
       "      <th>1</th>\n",
       "      <td>1</td>\n",
       "      <td>124 C Street W</td>\n",
       "      <td>Brawley, CA</td>\n",
       "      <td>48</td>\n",
       "      <td>3</td>\n",
       "      <td>2.0</td>\n",
       "      <td>713</td>\n",
       "      <td>228500</td>\n",
       "    </tr>\n",
       "    <tr>\n",
       "      <th>2</th>\n",
       "      <td>2</td>\n",
       "      <td>2304 Clark Road</td>\n",
       "      <td>Imperial, CA</td>\n",
       "      <td>152</td>\n",
       "      <td>3</td>\n",
       "      <td>1.0</td>\n",
       "      <td>800</td>\n",
       "      <td>273950</td>\n",
       "    </tr>\n",
       "    <tr>\n",
       "      <th>3</th>\n",
       "      <td>3</td>\n",
       "      <td>755 Brawley Avenue</td>\n",
       "      <td>Brawley, CA</td>\n",
       "      <td>48</td>\n",
       "      <td>3</td>\n",
       "      <td>1.0</td>\n",
       "      <td>1082</td>\n",
       "      <td>350000</td>\n",
       "    </tr>\n",
       "    <tr>\n",
       "      <th>4</th>\n",
       "      <td>4</td>\n",
       "      <td>2207 R Carrillo Court</td>\n",
       "      <td>Calexico, CA</td>\n",
       "      <td>55</td>\n",
       "      <td>4</td>\n",
       "      <td>3.0</td>\n",
       "      <td>2547</td>\n",
       "      <td>385100</td>\n",
       "    </tr>\n",
       "  </tbody>\n",
       "</table>\n",
       "</div>"
      ],
      "text/plain": [
       "   image_id                 street             citi  n_citi  bed  bath  sqft  \\\n",
       "0         0  1317 Van Buren Avenue  Salton City, CA     317    3   2.0  1560   \n",
       "1         1         124 C Street W      Brawley, CA      48    3   2.0   713   \n",
       "2         2        2304 Clark Road     Imperial, CA     152    3   1.0   800   \n",
       "3         3     755 Brawley Avenue      Brawley, CA      48    3   1.0  1082   \n",
       "4         4  2207 R Carrillo Court     Calexico, CA      55    4   3.0  2547   \n",
       "\n",
       "    price  \n",
       "0  201900  \n",
       "1  228500  \n",
       "2  273950  \n",
       "3  350000  \n",
       "4  385100  "
      ]
     },
     "execution_count": 2,
     "metadata": {},
     "output_type": "execute_result"
    }
   ],
   "source": [
    "data = pd.read_csv(\"/Users/tonytang/Downloads/socal2.csv\")\n",
    "data.head()"
   ]
  },
  {
   "cell_type": "code",
   "execution_count": 3,
   "id": "6fdfb53e-6fb5-4700-80c0-b4d23d5e6a96",
   "metadata": {},
   "outputs": [
    {
     "name": "stdout",
     "output_type": "stream",
     "text": [
      "<class 'pandas.core.frame.DataFrame'>\n",
      "RangeIndex: 15474 entries, 0 to 15473\n",
      "Data columns (total 8 columns):\n",
      " #   Column    Non-Null Count  Dtype  \n",
      "---  ------    --------------  -----  \n",
      " 0   image_id  15474 non-null  int64  \n",
      " 1   street    15474 non-null  object \n",
      " 2   citi      15474 non-null  object \n",
      " 3   n_citi    15474 non-null  int64  \n",
      " 4   bed       15474 non-null  int64  \n",
      " 5   bath      15474 non-null  float64\n",
      " 6   sqft      15474 non-null  int64  \n",
      " 7   price     15474 non-null  int64  \n",
      "dtypes: float64(1), int64(5), object(2)\n",
      "memory usage: 967.3+ KB\n"
     ]
    }
   ],
   "source": [
    "data.info()"
   ]
  },
  {
   "cell_type": "code",
   "execution_count": 4,
   "id": "df27ecc7-8d8c-4a09-b0a4-1e570f2c529e",
   "metadata": {},
   "outputs": [
    {
     "data": {
      "text/html": [
       "<div>\n",
       "<style scoped>\n",
       "    .dataframe tbody tr th:only-of-type {\n",
       "        vertical-align: middle;\n",
       "    }\n",
       "\n",
       "    .dataframe tbody tr th {\n",
       "        vertical-align: top;\n",
       "    }\n",
       "\n",
       "    .dataframe thead th {\n",
       "        text-align: right;\n",
       "    }\n",
       "</style>\n",
       "<table border=\"1\" class=\"dataframe\">\n",
       "  <thead>\n",
       "    <tr style=\"text-align: right;\">\n",
       "      <th></th>\n",
       "      <th>image_id</th>\n",
       "      <th>n_citi</th>\n",
       "      <th>bed</th>\n",
       "      <th>bath</th>\n",
       "      <th>sqft</th>\n",
       "      <th>price</th>\n",
       "    </tr>\n",
       "  </thead>\n",
       "  <tbody>\n",
       "    <tr>\n",
       "      <th>count</th>\n",
       "      <td>15474.000000</td>\n",
       "      <td>15474.000000</td>\n",
       "      <td>15474.000000</td>\n",
       "      <td>15474.000000</td>\n",
       "      <td>15474.000000</td>\n",
       "      <td>1.547400e+04</td>\n",
       "    </tr>\n",
       "    <tr>\n",
       "      <th>mean</th>\n",
       "      <td>7736.500000</td>\n",
       "      <td>216.597518</td>\n",
       "      <td>3.506398</td>\n",
       "      <td>2.453251</td>\n",
       "      <td>2173.913209</td>\n",
       "      <td>7.031209e+05</td>\n",
       "    </tr>\n",
       "    <tr>\n",
       "      <th>std</th>\n",
       "      <td>4467.103368</td>\n",
       "      <td>112.372985</td>\n",
       "      <td>1.034838</td>\n",
       "      <td>0.958742</td>\n",
       "      <td>1025.339617</td>\n",
       "      <td>3.769762e+05</td>\n",
       "    </tr>\n",
       "    <tr>\n",
       "      <th>min</th>\n",
       "      <td>0.000000</td>\n",
       "      <td>0.000000</td>\n",
       "      <td>1.000000</td>\n",
       "      <td>0.000000</td>\n",
       "      <td>280.000000</td>\n",
       "      <td>1.950000e+05</td>\n",
       "    </tr>\n",
       "    <tr>\n",
       "      <th>25%</th>\n",
       "      <td>3868.250000</td>\n",
       "      <td>119.000000</td>\n",
       "      <td>3.000000</td>\n",
       "      <td>2.000000</td>\n",
       "      <td>1426.000000</td>\n",
       "      <td>4.450000e+05</td>\n",
       "    </tr>\n",
       "    <tr>\n",
       "      <th>50%</th>\n",
       "      <td>7736.500000</td>\n",
       "      <td>222.500000</td>\n",
       "      <td>3.000000</td>\n",
       "      <td>2.100000</td>\n",
       "      <td>1951.000000</td>\n",
       "      <td>6.390000e+05</td>\n",
       "    </tr>\n",
       "    <tr>\n",
       "      <th>75%</th>\n",
       "      <td>11604.750000</td>\n",
       "      <td>315.000000</td>\n",
       "      <td>4.000000</td>\n",
       "      <td>3.000000</td>\n",
       "      <td>2737.750000</td>\n",
       "      <td>8.349750e+05</td>\n",
       "    </tr>\n",
       "    <tr>\n",
       "      <th>max</th>\n",
       "      <td>15473.000000</td>\n",
       "      <td>414.000000</td>\n",
       "      <td>12.000000</td>\n",
       "      <td>36.000000</td>\n",
       "      <td>17667.000000</td>\n",
       "      <td>2.000000e+06</td>\n",
       "    </tr>\n",
       "  </tbody>\n",
       "</table>\n",
       "</div>"
      ],
      "text/plain": [
       "           image_id        n_citi           bed          bath          sqft  \\\n",
       "count  15474.000000  15474.000000  15474.000000  15474.000000  15474.000000   \n",
       "mean    7736.500000    216.597518      3.506398      2.453251   2173.913209   \n",
       "std     4467.103368    112.372985      1.034838      0.958742   1025.339617   \n",
       "min        0.000000      0.000000      1.000000      0.000000    280.000000   \n",
       "25%     3868.250000    119.000000      3.000000      2.000000   1426.000000   \n",
       "50%     7736.500000    222.500000      3.000000      2.100000   1951.000000   \n",
       "75%    11604.750000    315.000000      4.000000      3.000000   2737.750000   \n",
       "max    15473.000000    414.000000     12.000000     36.000000  17667.000000   \n",
       "\n",
       "              price  \n",
       "count  1.547400e+04  \n",
       "mean   7.031209e+05  \n",
       "std    3.769762e+05  \n",
       "min    1.950000e+05  \n",
       "25%    4.450000e+05  \n",
       "50%    6.390000e+05  \n",
       "75%    8.349750e+05  \n",
       "max    2.000000e+06  "
      ]
     },
     "execution_count": 4,
     "metadata": {},
     "output_type": "execute_result"
    }
   ],
   "source": [
    "data.describe()"
   ]
  },
  {
   "cell_type": "code",
   "execution_count": 5,
   "id": "027e1bd7-9a65-4697-bc95-5f3baaec1630",
   "metadata": {},
   "outputs": [
    {
     "data": {
      "text/plain": [
       "Index(['image_id', 'street', 'citi', 'n_citi', 'bed', 'bath', 'sqft', 'price'], dtype='object')"
      ]
     },
     "execution_count": 5,
     "metadata": {},
     "output_type": "execute_result"
    }
   ],
   "source": [
    "data.columns"
   ]
  },
  {
   "cell_type": "code",
   "execution_count": 6,
   "id": "b71a05f7-74e1-4f60-98d6-2dc1ca65a3e1",
   "metadata": {},
   "outputs": [],
   "source": [
    "data1 = data.drop(['image_id','street','n_citi'],axis='columns')"
   ]
  },
  {
   "cell_type": "code",
   "execution_count": 7,
   "id": "332ae129-d451-45a6-bb62-416b61f3973d",
   "metadata": {},
   "outputs": [
    {
     "data": {
      "text/html": [
       "<div>\n",
       "<style scoped>\n",
       "    .dataframe tbody tr th:only-of-type {\n",
       "        vertical-align: middle;\n",
       "    }\n",
       "\n",
       "    .dataframe tbody tr th {\n",
       "        vertical-align: top;\n",
       "    }\n",
       "\n",
       "    .dataframe thead th {\n",
       "        text-align: right;\n",
       "    }\n",
       "</style>\n",
       "<table border=\"1\" class=\"dataframe\">\n",
       "  <thead>\n",
       "    <tr style=\"text-align: right;\">\n",
       "      <th></th>\n",
       "      <th>citi</th>\n",
       "      <th>bed</th>\n",
       "      <th>bath</th>\n",
       "      <th>sqft</th>\n",
       "      <th>price</th>\n",
       "    </tr>\n",
       "  </thead>\n",
       "  <tbody>\n",
       "    <tr>\n",
       "      <th>0</th>\n",
       "      <td>Salton City, CA</td>\n",
       "      <td>3</td>\n",
       "      <td>2.0</td>\n",
       "      <td>1560</td>\n",
       "      <td>201900</td>\n",
       "    </tr>\n",
       "    <tr>\n",
       "      <th>1</th>\n",
       "      <td>Brawley, CA</td>\n",
       "      <td>3</td>\n",
       "      <td>2.0</td>\n",
       "      <td>713</td>\n",
       "      <td>228500</td>\n",
       "    </tr>\n",
       "    <tr>\n",
       "      <th>2</th>\n",
       "      <td>Imperial, CA</td>\n",
       "      <td>3</td>\n",
       "      <td>1.0</td>\n",
       "      <td>800</td>\n",
       "      <td>273950</td>\n",
       "    </tr>\n",
       "    <tr>\n",
       "      <th>3</th>\n",
       "      <td>Brawley, CA</td>\n",
       "      <td>3</td>\n",
       "      <td>1.0</td>\n",
       "      <td>1082</td>\n",
       "      <td>350000</td>\n",
       "    </tr>\n",
       "    <tr>\n",
       "      <th>4</th>\n",
       "      <td>Calexico, CA</td>\n",
       "      <td>4</td>\n",
       "      <td>3.0</td>\n",
       "      <td>2547</td>\n",
       "      <td>385100</td>\n",
       "    </tr>\n",
       "  </tbody>\n",
       "</table>\n",
       "</div>"
      ],
      "text/plain": [
       "              citi  bed  bath  sqft   price\n",
       "0  Salton City, CA    3   2.0  1560  201900\n",
       "1      Brawley, CA    3   2.0   713  228500\n",
       "2     Imperial, CA    3   1.0   800  273950\n",
       "3      Brawley, CA    3   1.0  1082  350000\n",
       "4     Calexico, CA    4   3.0  2547  385100"
      ]
     },
     "execution_count": 7,
     "metadata": {},
     "output_type": "execute_result"
    }
   ],
   "source": [
    "data1.head()"
   ]
  },
  {
   "cell_type": "code",
   "execution_count": 8,
   "id": "37580649-2333-4cf4-b00b-e919880b4718",
   "metadata": {},
   "outputs": [
    {
     "data": {
      "text/plain": [
       "citi     0\n",
       "bed      0\n",
       "bath     0\n",
       "sqft     0\n",
       "price    0\n",
       "dtype: int64"
      ]
     },
     "execution_count": 8,
     "metadata": {},
     "output_type": "execute_result"
    }
   ],
   "source": [
    "data1.isnull().sum()"
   ]
  },
  {
   "cell_type": "code",
   "execution_count": 9,
   "id": "f86915d4-1d47-4647-95af-2a7846352430",
   "metadata": {},
   "outputs": [
    {
     "data": {
      "text/plain": [
       "citi     0\n",
       "bed      0\n",
       "bath     0\n",
       "sqft     0\n",
       "price    0\n",
       "dtype: int64"
      ]
     },
     "execution_count": 9,
     "metadata": {},
     "output_type": "execute_result"
    }
   ],
   "source": [
    "data2 = data1.dropna()\n",
    "data2.isnull().sum()"
   ]
  },
  {
   "cell_type": "code",
   "execution_count": 10,
   "id": "8e96442e-ac6b-4406-9978-4975e8c2be79",
   "metadata": {},
   "outputs": [
    {
     "data": {
      "text/plain": [
       "array([ 2. ,  1. ,  3. ,  2.1,  5.1,  3.1,  1.1,  2.2,  5. ,  4. ,  1.2,\n",
       "        4.1,  8. ,  3.2,  6. ,  5.2,  6.1,  7. ,  2.3, 36. , 13. ,  3.3,\n",
       "        4.2,  0. ,  2.4,  8.1,  6.2,  7.1,  5.3,  4.3, 11.2,  0.1])"
      ]
     },
     "execution_count": 10,
     "metadata": {},
     "output_type": "execute_result"
    }
   ],
   "source": [
    "data2['bath'].unique()"
   ]
  },
  {
   "cell_type": "code",
   "execution_count": 11,
   "id": "e331b2af-842a-4fb0-a2f0-26b8214ffc70",
   "metadata": {},
   "outputs": [],
   "source": [
    "data2['bath'] = data2['bath'].round().astype('int')"
   ]
  },
  {
   "cell_type": "code",
   "execution_count": 12,
   "id": "d9a2c5fe-ba1f-464a-be2a-b4a2489618ea",
   "metadata": {},
   "outputs": [
    {
     "data": {
      "text/plain": [
       "array([ 2,  1,  3,  5,  4,  8,  6,  7, 36, 13,  0, 11])"
      ]
     },
     "execution_count": 12,
     "metadata": {},
     "output_type": "execute_result"
    }
   ],
   "source": [
    "data2['bath'].unique()"
   ]
  },
  {
   "cell_type": "code",
   "execution_count": 13,
   "id": "ec25e781-1814-4700-9528-b928ec2aaea1",
   "metadata": {},
   "outputs": [
    {
     "data": {
      "text/plain": [
       "array([ 3,  4,  5,  2,  1,  8,  6, 10,  7,  9, 12, 11])"
      ]
     },
     "execution_count": 13,
     "metadata": {},
     "output_type": "execute_result"
    }
   ],
   "source": [
    "data2['bed'].unique()"
   ]
  },
  {
   "cell_type": "code",
   "execution_count": 14,
   "id": "928c83f3-be8e-4e80-981e-c75f41a23529",
   "metadata": {},
   "outputs": [
    {
     "data": {
      "text/plain": [
       "(15474, 5)"
      ]
     },
     "execution_count": 14,
     "metadata": {},
     "output_type": "execute_result"
    }
   ],
   "source": [
    "data2.shape"
   ]
  },
  {
   "cell_type": "code",
   "execution_count": 15,
   "id": "ba4a7d5f-442b-4446-aed5-bfbe3a66defe",
   "metadata": {},
   "outputs": [
    {
     "data": {
      "text/html": [
       "<div>\n",
       "<style scoped>\n",
       "    .dataframe tbody tr th:only-of-type {\n",
       "        vertical-align: middle;\n",
       "    }\n",
       "\n",
       "    .dataframe tbody tr th {\n",
       "        vertical-align: top;\n",
       "    }\n",
       "\n",
       "    .dataframe thead th {\n",
       "        text-align: right;\n",
       "    }\n",
       "</style>\n",
       "<table border=\"1\" class=\"dataframe\">\n",
       "  <thead>\n",
       "    <tr style=\"text-align: right;\">\n",
       "      <th></th>\n",
       "      <th>citi</th>\n",
       "      <th>bed</th>\n",
       "      <th>bath</th>\n",
       "      <th>sqft</th>\n",
       "      <th>price</th>\n",
       "      <th>price_per_sqft</th>\n",
       "    </tr>\n",
       "  </thead>\n",
       "  <tbody>\n",
       "    <tr>\n",
       "      <th>0</th>\n",
       "      <td>Salton City, CA</td>\n",
       "      <td>3</td>\n",
       "      <td>2</td>\n",
       "      <td>1560</td>\n",
       "      <td>201900</td>\n",
       "      <td>129.0</td>\n",
       "    </tr>\n",
       "    <tr>\n",
       "      <th>1</th>\n",
       "      <td>Brawley, CA</td>\n",
       "      <td>3</td>\n",
       "      <td>2</td>\n",
       "      <td>713</td>\n",
       "      <td>228500</td>\n",
       "      <td>320.0</td>\n",
       "    </tr>\n",
       "    <tr>\n",
       "      <th>2</th>\n",
       "      <td>Imperial, CA</td>\n",
       "      <td>3</td>\n",
       "      <td>1</td>\n",
       "      <td>800</td>\n",
       "      <td>273950</td>\n",
       "      <td>342.0</td>\n",
       "    </tr>\n",
       "    <tr>\n",
       "      <th>3</th>\n",
       "      <td>Brawley, CA</td>\n",
       "      <td>3</td>\n",
       "      <td>1</td>\n",
       "      <td>1082</td>\n",
       "      <td>350000</td>\n",
       "      <td>323.0</td>\n",
       "    </tr>\n",
       "    <tr>\n",
       "      <th>4</th>\n",
       "      <td>Calexico, CA</td>\n",
       "      <td>4</td>\n",
       "      <td>3</td>\n",
       "      <td>2547</td>\n",
       "      <td>385100</td>\n",
       "      <td>151.0</td>\n",
       "    </tr>\n",
       "  </tbody>\n",
       "</table>\n",
       "</div>"
      ],
      "text/plain": [
       "              citi  bed  bath  sqft   price  price_per_sqft\n",
       "0  Salton City, CA    3     2  1560  201900           129.0\n",
       "1      Brawley, CA    3     2   713  228500           320.0\n",
       "2     Imperial, CA    3     1   800  273950           342.0\n",
       "3      Brawley, CA    3     1  1082  350000           323.0\n",
       "4     Calexico, CA    4     3  2547  385100           151.0"
      ]
     },
     "execution_count": 15,
     "metadata": {},
     "output_type": "execute_result"
    }
   ],
   "source": [
    "data2['price_per_sqft'] = np.round(data2['price']/data2['sqft'])\n",
    "data2.head()"
   ]
  },
  {
   "cell_type": "code",
   "execution_count": 16,
   "id": "c2e73210-83c2-46f5-850b-2063f0c77370",
   "metadata": {},
   "outputs": [
    {
     "data": {
      "text/plain": [
       "citi\n",
       "San Diego, CA           707\n",
       "Los Angeles, CA         388\n",
       "Lancaster, CA           312\n",
       "La Quinta, CA           305\n",
       "Riverside, CA           274\n",
       "                       ... \n",
       "Mt Baldy, CA              1\n",
       "Echo Park, CA             1\n",
       "Parkfield, CA             1\n",
       "Val Verde, CA             1\n",
       "Hawaiian Gardens, CA      1\n",
       "Name: count, Length: 415, dtype: int64"
      ]
     },
     "execution_count": 16,
     "metadata": {},
     "output_type": "execute_result"
    }
   ],
   "source": [
    "location_stats=data2['citi'].value_counts(ascending=False)\n",
    "location_stats"
   ]
  },
  {
   "cell_type": "code",
   "execution_count": 17,
   "id": "6e9c0bda-e0e2-4cb4-bece-68c6de9c076a",
   "metadata": {},
   "outputs": [
    {
     "data": {
      "text/plain": [
       "15474"
      ]
     },
     "execution_count": 17,
     "metadata": {},
     "output_type": "execute_result"
    }
   ],
   "source": [
    "location_stats.values.sum()"
   ]
  },
  {
   "cell_type": "code",
   "execution_count": 18,
   "id": "68b3584f-0509-49cb-89b0-1d123ecdee31",
   "metadata": {},
   "outputs": [
    {
     "data": {
      "text/plain": [
       "244"
      ]
     },
     "execution_count": 18,
     "metadata": {},
     "output_type": "execute_result"
    }
   ],
   "source": [
    "len(location_stats[location_stats>10])"
   ]
  },
  {
   "cell_type": "code",
   "execution_count": 19,
   "id": "59ccc1b6-22e8-4d20-85cb-d35c24ee1120",
   "metadata": {},
   "outputs": [
    {
     "data": {
      "text/plain": [
       "415"
      ]
     },
     "execution_count": 19,
     "metadata": {},
     "output_type": "execute_result"
    }
   ],
   "source": [
    "len(location_stats)"
   ]
  },
  {
   "cell_type": "code",
   "execution_count": 20,
   "id": "260a29f5-8586-4bba-9b54-516fb0aa0034",
   "metadata": {},
   "outputs": [
    {
     "data": {
      "text/plain": [
       "171"
      ]
     },
     "execution_count": 20,
     "metadata": {},
     "output_type": "execute_result"
    }
   ],
   "source": [
    "len(location_stats[location_stats<=10])"
   ]
  },
  {
   "cell_type": "code",
   "execution_count": 21,
   "id": "c7c953ff-2061-4000-b58d-03bf40b32c7d",
   "metadata": {},
   "outputs": [
    {
     "data": {
      "text/plain": [
       "citi\n",
       "Rancho Palos Verdes, CA    10\n",
       "Sunland, CA                10\n",
       "Boulevard, CA              10\n",
       "Morongo Valley, CA         10\n",
       "29 Palms, CA               10\n",
       "                           ..\n",
       "Mt Baldy, CA                1\n",
       "Echo Park, CA               1\n",
       "Parkfield, CA               1\n",
       "Val Verde, CA               1\n",
       "Hawaiian Gardens, CA        1\n",
       "Name: count, Length: 171, dtype: int64"
      ]
     },
     "execution_count": 21,
     "metadata": {},
     "output_type": "execute_result"
    }
   ],
   "source": [
    "location_stats_less_than_10 = location_stats[location_stats<=10]\n",
    "location_stats_less_than_10"
   ]
  },
  {
   "cell_type": "code",
   "execution_count": 22,
   "id": "68719d2b-85af-4f23-ad8f-739a6c1837ae",
   "metadata": {},
   "outputs": [
    {
     "data": {
      "text/plain": [
       "245"
      ]
     },
     "execution_count": 22,
     "metadata": {},
     "output_type": "execute_result"
    }
   ],
   "source": [
    "data2.citi = data2.citi.apply(lambda x: 'other' if x in location_stats_less_than_10 else x)\n",
    "len(data2.citi.unique())"
   ]
  },
  {
   "cell_type": "code",
   "execution_count": 23,
   "id": "06d3b66f-11a1-4175-af91-a279a8326b87",
   "metadata": {},
   "outputs": [
    {
     "data": {
      "text/html": [
       "<div>\n",
       "<style scoped>\n",
       "    .dataframe tbody tr th:only-of-type {\n",
       "        vertical-align: middle;\n",
       "    }\n",
       "\n",
       "    .dataframe tbody tr th {\n",
       "        vertical-align: top;\n",
       "    }\n",
       "\n",
       "    .dataframe thead th {\n",
       "        text-align: right;\n",
       "    }\n",
       "</style>\n",
       "<table border=\"1\" class=\"dataframe\">\n",
       "  <thead>\n",
       "    <tr style=\"text-align: right;\">\n",
       "      <th></th>\n",
       "      <th>citi</th>\n",
       "      <th>bed</th>\n",
       "      <th>bath</th>\n",
       "      <th>sqft</th>\n",
       "      <th>price</th>\n",
       "      <th>price_per_sqft</th>\n",
       "    </tr>\n",
       "  </thead>\n",
       "  <tbody>\n",
       "    <tr>\n",
       "      <th>0</th>\n",
       "      <td>other</td>\n",
       "      <td>3</td>\n",
       "      <td>2</td>\n",
       "      <td>1560</td>\n",
       "      <td>201900</td>\n",
       "      <td>129.0</td>\n",
       "    </tr>\n",
       "    <tr>\n",
       "      <th>1</th>\n",
       "      <td>other</td>\n",
       "      <td>3</td>\n",
       "      <td>2</td>\n",
       "      <td>713</td>\n",
       "      <td>228500</td>\n",
       "      <td>320.0</td>\n",
       "    </tr>\n",
       "    <tr>\n",
       "      <th>2</th>\n",
       "      <td>other</td>\n",
       "      <td>3</td>\n",
       "      <td>1</td>\n",
       "      <td>800</td>\n",
       "      <td>273950</td>\n",
       "      <td>342.0</td>\n",
       "    </tr>\n",
       "    <tr>\n",
       "      <th>3</th>\n",
       "      <td>other</td>\n",
       "      <td>3</td>\n",
       "      <td>1</td>\n",
       "      <td>1082</td>\n",
       "      <td>350000</td>\n",
       "      <td>323.0</td>\n",
       "    </tr>\n",
       "    <tr>\n",
       "      <th>4</th>\n",
       "      <td>other</td>\n",
       "      <td>4</td>\n",
       "      <td>3</td>\n",
       "      <td>2547</td>\n",
       "      <td>385100</td>\n",
       "      <td>151.0</td>\n",
       "    </tr>\n",
       "  </tbody>\n",
       "</table>\n",
       "</div>"
      ],
      "text/plain": [
       "    citi  bed  bath  sqft   price  price_per_sqft\n",
       "0  other    3     2  1560  201900           129.0\n",
       "1  other    3     2   713  228500           320.0\n",
       "2  other    3     1   800  273950           342.0\n",
       "3  other    3     1  1082  350000           323.0\n",
       "4  other    4     3  2547  385100           151.0"
      ]
     },
     "execution_count": 23,
     "metadata": {},
     "output_type": "execute_result"
    }
   ],
   "source": [
    "data2.head()"
   ]
  },
  {
   "cell_type": "code",
   "execution_count": 24,
   "id": "681bedd2-71b1-4c84-8f08-69baea33f16b",
   "metadata": {},
   "outputs": [
    {
     "data": {
      "text/plain": [
       "citi\n",
       "other                755\n",
       "San Diego, CA        707\n",
       "Los Angeles, CA      388\n",
       "Lancaster, CA        312\n",
       "La Quinta, CA        305\n",
       "                    ... \n",
       "Santa Barbara, CA     11\n",
       "Temple City, CA       11\n",
       "Claremont, CA         11\n",
       "Alhambra, CA          11\n",
       "Del Mar, CA           11\n",
       "Name: count, Length: 245, dtype: int64"
      ]
     },
     "execution_count": 24,
     "metadata": {},
     "output_type": "execute_result"
    }
   ],
   "source": [
    "data2['citi'].value_counts(ascending=False)"
   ]
  },
  {
   "cell_type": "code",
   "execution_count": 25,
   "id": "cb1bda2d-0a56-4146-87fb-b23359abf314",
   "metadata": {},
   "outputs": [
    {
     "data": {
      "text/html": [
       "<div>\n",
       "<style scoped>\n",
       "    .dataframe tbody tr th:only-of-type {\n",
       "        vertical-align: middle;\n",
       "    }\n",
       "\n",
       "    .dataframe tbody tr th {\n",
       "        vertical-align: top;\n",
       "    }\n",
       "\n",
       "    .dataframe thead th {\n",
       "        text-align: right;\n",
       "    }\n",
       "</style>\n",
       "<table border=\"1\" class=\"dataframe\">\n",
       "  <thead>\n",
       "    <tr style=\"text-align: right;\">\n",
       "      <th></th>\n",
       "      <th>citi</th>\n",
       "      <th>bed</th>\n",
       "      <th>bath</th>\n",
       "      <th>sqft</th>\n",
       "      <th>price</th>\n",
       "      <th>price_per_sqft</th>\n",
       "    </tr>\n",
       "  </thead>\n",
       "  <tbody>\n",
       "    <tr>\n",
       "      <th>1</th>\n",
       "      <td>other</td>\n",
       "      <td>3</td>\n",
       "      <td>2</td>\n",
       "      <td>713</td>\n",
       "      <td>228500</td>\n",
       "      <td>320.0</td>\n",
       "    </tr>\n",
       "    <tr>\n",
       "      <th>2</th>\n",
       "      <td>other</td>\n",
       "      <td>3</td>\n",
       "      <td>1</td>\n",
       "      <td>800</td>\n",
       "      <td>273950</td>\n",
       "      <td>342.0</td>\n",
       "    </tr>\n",
       "    <tr>\n",
       "      <th>631</th>\n",
       "      <td>Lancaster, CA</td>\n",
       "      <td>4</td>\n",
       "      <td>2</td>\n",
       "      <td>1178</td>\n",
       "      <td>249000</td>\n",
       "      <td>211.0</td>\n",
       "    </tr>\n",
       "    <tr>\n",
       "      <th>638</th>\n",
       "      <td>Palmdale, CA</td>\n",
       "      <td>4</td>\n",
       "      <td>1</td>\n",
       "      <td>1156</td>\n",
       "      <td>239900</td>\n",
       "      <td>208.0</td>\n",
       "    </tr>\n",
       "    <tr>\n",
       "      <th>653</th>\n",
       "      <td>Lancaster, CA</td>\n",
       "      <td>4</td>\n",
       "      <td>2</td>\n",
       "      <td>1170</td>\n",
       "      <td>215000</td>\n",
       "      <td>184.0</td>\n",
       "    </tr>\n",
       "  </tbody>\n",
       "</table>\n",
       "</div>"
      ],
      "text/plain": [
       "              citi  bed  bath  sqft   price  price_per_sqft\n",
       "1            other    3     2   713  228500           320.0\n",
       "2            other    3     1   800  273950           342.0\n",
       "631  Lancaster, CA    4     2  1178  249000           211.0\n",
       "638   Palmdale, CA    4     1  1156  239900           208.0\n",
       "653  Lancaster, CA    4     2  1170  215000           184.0"
      ]
     },
     "execution_count": 25,
     "metadata": {},
     "output_type": "execute_result"
    }
   ],
   "source": [
    "data2[data2['sqft']/data2['bed']<300].head()"
   ]
  },
  {
   "cell_type": "code",
   "execution_count": 26,
   "id": "c2f7796f-9b72-47bb-b6b4-55ebaa4770b6",
   "metadata": {},
   "outputs": [
    {
     "data": {
      "text/plain": [
       "156"
      ]
     },
     "execution_count": 26,
     "metadata": {},
     "output_type": "execute_result"
    }
   ],
   "source": [
    "len(data2[data2['sqft']/data2['bed']<300])"
   ]
  },
  {
   "cell_type": "code",
   "execution_count": 27,
   "id": "701d314e-df7f-42fd-b9a7-8d509a79a25b",
   "metadata": {},
   "outputs": [
    {
     "data": {
      "text/plain": [
       "(15474, 6)"
      ]
     },
     "execution_count": 27,
     "metadata": {},
     "output_type": "execute_result"
    }
   ],
   "source": [
    "data2.shape"
   ]
  },
  {
   "cell_type": "code",
   "execution_count": 28,
   "id": "dbb940df-17bf-4fda-a8d0-8e1b28b3e70b",
   "metadata": {},
   "outputs": [],
   "source": [
    "data3=data2[~(data2['sqft']/data2['bed']<300)]"
   ]
  },
  {
   "cell_type": "code",
   "execution_count": 29,
   "id": "702766f7-82c5-481a-ae75-4efaefb28f1d",
   "metadata": {},
   "outputs": [
    {
     "data": {
      "text/plain": [
       "(15318, 6)"
      ]
     },
     "execution_count": 29,
     "metadata": {},
     "output_type": "execute_result"
    }
   ],
   "source": [
    "data3.shape"
   ]
  },
  {
   "cell_type": "code",
   "execution_count": 30,
   "id": "d41128b9-0909-46ee-a7c8-1bcaa4f9340c",
   "metadata": {},
   "outputs": [
    {
     "data": {
      "text/html": [
       "<div>\n",
       "<style scoped>\n",
       "    .dataframe tbody tr th:only-of-type {\n",
       "        vertical-align: middle;\n",
       "    }\n",
       "\n",
       "    .dataframe tbody tr th {\n",
       "        vertical-align: top;\n",
       "    }\n",
       "\n",
       "    .dataframe thead th {\n",
       "        text-align: right;\n",
       "    }\n",
       "</style>\n",
       "<table border=\"1\" class=\"dataframe\">\n",
       "  <thead>\n",
       "    <tr style=\"text-align: right;\">\n",
       "      <th></th>\n",
       "      <th>citi</th>\n",
       "      <th>bed</th>\n",
       "      <th>bath</th>\n",
       "      <th>sqft</th>\n",
       "      <th>price</th>\n",
       "      <th>price_per_sqft</th>\n",
       "    </tr>\n",
       "  </thead>\n",
       "  <tbody>\n",
       "    <tr>\n",
       "      <th>0</th>\n",
       "      <td>other</td>\n",
       "      <td>3</td>\n",
       "      <td>2</td>\n",
       "      <td>1560</td>\n",
       "      <td>201900</td>\n",
       "      <td>129.0</td>\n",
       "    </tr>\n",
       "    <tr>\n",
       "      <th>3</th>\n",
       "      <td>other</td>\n",
       "      <td>3</td>\n",
       "      <td>1</td>\n",
       "      <td>1082</td>\n",
       "      <td>350000</td>\n",
       "      <td>323.0</td>\n",
       "    </tr>\n",
       "    <tr>\n",
       "      <th>4</th>\n",
       "      <td>other</td>\n",
       "      <td>4</td>\n",
       "      <td>3</td>\n",
       "      <td>2547</td>\n",
       "      <td>385100</td>\n",
       "      <td>151.0</td>\n",
       "    </tr>\n",
       "    <tr>\n",
       "      <th>5</th>\n",
       "      <td>other</td>\n",
       "      <td>3</td>\n",
       "      <td>1</td>\n",
       "      <td>1082</td>\n",
       "      <td>350000</td>\n",
       "      <td>323.0</td>\n",
       "    </tr>\n",
       "    <tr>\n",
       "      <th>6</th>\n",
       "      <td>other</td>\n",
       "      <td>4</td>\n",
       "      <td>3</td>\n",
       "      <td>2769</td>\n",
       "      <td>415000</td>\n",
       "      <td>150.0</td>\n",
       "    </tr>\n",
       "  </tbody>\n",
       "</table>\n",
       "</div>"
      ],
      "text/plain": [
       "    citi  bed  bath  sqft   price  price_per_sqft\n",
       "0  other    3     2  1560  201900           129.0\n",
       "3  other    3     1  1082  350000           323.0\n",
       "4  other    4     3  2547  385100           151.0\n",
       "5  other    3     1  1082  350000           323.0\n",
       "6  other    4     3  2769  415000           150.0"
      ]
     },
     "execution_count": 30,
     "metadata": {},
     "output_type": "execute_result"
    }
   ],
   "source": [
    "data3.head()"
   ]
  },
  {
   "cell_type": "code",
   "execution_count": 31,
   "id": "aeddadb2-9eb0-4885-9d41-9384db80b378",
   "metadata": {},
   "outputs": [
    {
     "data": {
      "text/plain": [
       "count    15318.000000\n",
       "mean       348.466118\n",
       "std        179.514366\n",
       "min         43.000000\n",
       "25%        229.000000\n",
       "50%        314.000000\n",
       "75%        421.000000\n",
       "max       3627.000000\n",
       "Name: price_per_sqft, dtype: float64"
      ]
     },
     "execution_count": 31,
     "metadata": {},
     "output_type": "execute_result"
    }
   ],
   "source": [
    "data3['price_per_sqft'].describe()"
   ]
  },
  {
   "cell_type": "code",
   "execution_count": 32,
   "id": "1825d71d-3dee-447b-abad-4d32b60d0e9e",
   "metadata": {},
   "outputs": [
    {
     "data": {
      "text/plain": [
       "(11962, 6)"
      ]
     },
     "execution_count": 32,
     "metadata": {},
     "output_type": "execute_result"
    }
   ],
   "source": [
    "def remove_pps_outliers(df):\n",
    "    df_out = pd.DataFrame()\n",
    "    for key, subdf in df.groupby('citi'):\n",
    "        m = np.mean(subdf.price_per_sqft)\n",
    "        st = np.std(subdf.price_per_sqft)\n",
    "        reduced_df = subdf[(subdf.price_per_sqft>(m-st)) & (subdf.price_per_sqft<=(m+st))]\n",
    "        df_out = pd.concat([df_out,reduced_df],ignore_index=True)\n",
    "    return df_out\n",
    "data4 = remove_pps_outliers(data3)\n",
    "data4.shape"
   ]
  },
  {
   "cell_type": "code",
   "execution_count": 33,
   "id": "1dfce536-475a-4cbb-9b2a-2b3ea4fab5f6",
   "metadata": {},
   "outputs": [
    {
     "data": {
      "text/html": [
       "<div>\n",
       "<style scoped>\n",
       "    .dataframe tbody tr th:only-of-type {\n",
       "        vertical-align: middle;\n",
       "    }\n",
       "\n",
       "    .dataframe tbody tr th {\n",
       "        vertical-align: top;\n",
       "    }\n",
       "\n",
       "    .dataframe thead th {\n",
       "        text-align: right;\n",
       "    }\n",
       "</style>\n",
       "<table border=\"1\" class=\"dataframe\">\n",
       "  <thead>\n",
       "    <tr style=\"text-align: right;\">\n",
       "      <th></th>\n",
       "      <th>citi</th>\n",
       "      <th>bed</th>\n",
       "      <th>bath</th>\n",
       "      <th>sqft</th>\n",
       "      <th>price</th>\n",
       "      <th>price_per_sqft</th>\n",
       "    </tr>\n",
       "  </thead>\n",
       "  <tbody>\n",
       "    <tr>\n",
       "      <th>0</th>\n",
       "      <td>Acton, CA</td>\n",
       "      <td>3</td>\n",
       "      <td>2</td>\n",
       "      <td>1440</td>\n",
       "      <td>249000</td>\n",
       "      <td>173.0</td>\n",
       "    </tr>\n",
       "    <tr>\n",
       "      <th>1</th>\n",
       "      <td>Acton, CA</td>\n",
       "      <td>3</td>\n",
       "      <td>2</td>\n",
       "      <td>1440</td>\n",
       "      <td>249000</td>\n",
       "      <td>173.0</td>\n",
       "    </tr>\n",
       "    <tr>\n",
       "      <th>2</th>\n",
       "      <td>Acton, CA</td>\n",
       "      <td>4</td>\n",
       "      <td>2</td>\n",
       "      <td>1536</td>\n",
       "      <td>439000</td>\n",
       "      <td>286.0</td>\n",
       "    </tr>\n",
       "    <tr>\n",
       "      <th>3</th>\n",
       "      <td>Acton, CA</td>\n",
       "      <td>3</td>\n",
       "      <td>2</td>\n",
       "      <td>1816</td>\n",
       "      <td>499900</td>\n",
       "      <td>275.0</td>\n",
       "    </tr>\n",
       "    <tr>\n",
       "      <th>4</th>\n",
       "      <td>Acton, CA</td>\n",
       "      <td>4</td>\n",
       "      <td>2</td>\n",
       "      <td>1571</td>\n",
       "      <td>499000</td>\n",
       "      <td>318.0</td>\n",
       "    </tr>\n",
       "  </tbody>\n",
       "</table>\n",
       "</div>"
      ],
      "text/plain": [
       "        citi  bed  bath  sqft   price  price_per_sqft\n",
       "0  Acton, CA    3     2  1440  249000           173.0\n",
       "1  Acton, CA    3     2  1440  249000           173.0\n",
       "2  Acton, CA    4     2  1536  439000           286.0\n",
       "3  Acton, CA    3     2  1816  499900           275.0\n",
       "4  Acton, CA    4     2  1571  499000           318.0"
      ]
     },
     "execution_count": 33,
     "metadata": {},
     "output_type": "execute_result"
    }
   ],
   "source": [
    "data4.head()"
   ]
  },
  {
   "cell_type": "code",
   "execution_count": 34,
   "id": "5d75613a-8beb-41d7-8174-edbf421e8158",
   "metadata": {},
   "outputs": [
    {
     "data": {
      "text/plain": [
       "count    11962.000000\n",
       "mean       326.005016\n",
       "std        128.171694\n",
       "min         68.000000\n",
       "25%        228.000000\n",
       "50%        306.000000\n",
       "75%        400.750000\n",
       "max       1261.000000\n",
       "Name: price_per_sqft, dtype: float64"
      ]
     },
     "execution_count": 34,
     "metadata": {},
     "output_type": "execute_result"
    }
   ],
   "source": [
    "data4['price_per_sqft'].describe()"
   ]
  },
  {
   "cell_type": "code",
   "execution_count": 35,
   "id": "ac5c720d-bb43-466e-bcfb-287c2a4c937e",
   "metadata": {},
   "outputs": [
    {
     "data": {
      "image/png": "[encoded data removed]",
      "text/plain": [
       "<Figure size 1500x1000 with 1 Axes>"
      ]
     },
     "metadata": {},
     "output_type": "display_data"
    }
   ],
   "source": [
    "def plot_scatter_chart(df,city):\n",
    "    bb2 = df[(df.citi==city) & (df.bed==2)]\n",
    "    bb3 = df[(df.citi==city) & (df.bed==3)]\n",
    "    matplotlib.rcParams['figure.figsize'] = (15,10)\n",
    "    plt.scatter(bb2['sqft'],bb2['price'],color='blue',label='2 Bed', s=50)\n",
    "    plt.scatter(bb3['sqft'],bb3['price'],marker='+', color='green',label='3 Bed', s=50)\n",
    "    plt.xlabel(\"Total Square Feet Area\")\n",
    "    plt.ylabel(\"Price\")\n",
    "    plt.title(city)\n",
    "    plt.legend()\n",
    "    \n",
    "plot_scatter_chart(data4,\"San Diego, CA\")"
   ]
  },
  {
   "cell_type": "code",
   "execution_count": 36,
   "id": "0ad3ca9b-9e86-43da-a9be-94a3a5f6ae99",
   "metadata": {},
   "outputs": [
    {
     "data": {
      "image/png": "[encoded data removed]",
      "text/plain": [
       "<Figure size 1500x1000 with 1 Axes>"
      ]
     },
     "metadata": {},
     "output_type": "display_data"
    }
   ],
   "source": [
    "plot_scatter_chart(data4,\"Los Angeles, CA\")"
   ]
  },
  {
   "cell_type": "code",
   "execution_count": 52,
   "id": "3e84794e-60f6-4edc-ae79-bb8877691dad",
   "metadata": {},
   "outputs": [
    {
     "data": {
      "text/plain": [
       "(9564, 6)"
      ]
     },
     "execution_count": 52,
     "metadata": {},
     "output_type": "execute_result"
    }
   ],
   "source": [
    "def remove_bed_outliers(df):\n",
    "    exclude_indices = np.array([])\n",
    "    \n",
    "    for location, location_df in df.groupby('citi'):\n",
    "        bed_stats = {}\n",
    "        \n",
    "        for bed, bed_df in location_df.groupby('bed'):\n",
    "            if bed_df.shape[0] >= 5:\n",
    "                Q1 = np.percentile(bed_df.price_per_sqft, 25)\n",
    "                Q3 = np.percentile(bed_df.price_per_sqft, 75)\n",
    "                IQR = Q3 - Q1\n",
    "                \n",
    "                bed_stats[bed] = {\n",
    "                    'mean': np.mean(bed_df.price_per_sqft),\n",
    "                    'std': np.std(bed_df.price_per_sqft),\n",
    "                    'count': bed_df.shape[0],\n",
    "                    'Q1': Q1,\n",
    "                    'Q3': Q3,\n",
    "                    'IQR': IQR\n",
    "                }\n",
    "                \n",
    "                lower_bound = Q1 - 1.5 * IQR\n",
    "                upper_bound = Q3 + 1.5 * IQR\n",
    "                \n",
    "                outliers = bed_df[(bed_df.price_per_sqft < lower_bound) | \n",
    "                                 (bed_df.price_per_sqft > upper_bound)]\n",
    "                exclude_indices = np.append(exclude_indices, outliers.index.values)\n",
    "        \n",
    "        for bed, bed_df in location_df.groupby('bed'):\n",
    "            if bed >= 3:\n",
    "                stats = bed_stats.get(bed-1)\n",
    "                if stats and stats['count'] > 5:\n",
    "                    threshold = stats['mean'] * 0.85\n",
    "                    \n",
    "                    low_price_outliers = bed_df[bed_df.price_per_sqft < threshold]\n",
    "                    exclude_indices = np.append(exclude_indices, low_price_outliers.index.values)\n",
    "    \n",
    "    unique_indices = np.unique(exclude_indices)\n",
    "\n",
    "    return df.drop(unique_indices, axis='index')\n",
    "data5 = remove_bed_outliers(data4)\n",
    "data5.shape"
   ]
  },
  {
   "cell_type": "code",
   "execution_count": 54,
   "id": "c9552392-e54f-4176-a7a5-e27e6174adae",
   "metadata": {},
   "outputs": [
    {
     "data": {
      "image/png": "[encoded data removed]",
      "text/plain": [
       "<Figure size 1500x1000 with 1 Axes>"
      ]
     },
     "metadata": {},
     "output_type": "display_data"
    }
   ],
   "source": [
    "plot_scatter_chart(data5,\"San Diego, CA\")"
   ]
  },
  {
   "cell_type": "code",
   "execution_count": 55,
   "id": "513e8b11-439f-4a2d-8625-bc8b3d42125e",
   "metadata": {},
   "outputs": [
    {
     "data": {
      "image/png": "[encoded data removed]",
      "text/plain": [
       "<Figure size 1500x1000 with 1 Axes>"
      ]
     },
     "metadata": {},
     "output_type": "display_data"
    }
   ],
   "source": [
    "plot_scatter_chart(data5,\"Los Angeles, CA\")"
   ]
  },
  {
   "cell_type": "code",
   "execution_count": 56,
   "id": "1c8422d2-5306-4265-9559-aa3edb065a60",
   "metadata": {},
   "outputs": [
    {
     "data": {
      "text/plain": [
       "Text(0, 0.5, 'Count')"
      ]
     },
     "execution_count": 56,
     "metadata": {},
     "output_type": "execute_result"
    },
    {
     "data": {
      "image/png": "[encoded data removed]",
      "text/plain": [
       "<Figure size 2000x1000 with 1 Axes>"
      ]
     },
     "metadata": {},
     "output_type": "display_data"
    }
   ],
   "source": [
    "import matplotlib\n",
    "matplotlib.rcParams[\"figure.figsize\"] = (20,10)\n",
    "plt.hist(data5.price_per_sqft,rwidth=0.8)\n",
    "plt.xlabel(\"Price Per Square Feet\")\n",
    "plt.ylabel(\"Count\")"
   ]
  },
  {
   "cell_type": "code",
   "execution_count": 57,
   "id": "d7d101c3-5754-442a-8f66-1af7a2968230",
   "metadata": {},
   "outputs": [
    {
     "data": {
      "text/plain": [
       "array([ 2,  1,  3,  5,  4,  6,  8,  7, 36,  0])"
      ]
     },
     "execution_count": 57,
     "metadata": {},
     "output_type": "execute_result"
    }
   ],
   "source": [
    "data5.bath.unique()"
   ]
  },
  {
   "cell_type": "code",
   "execution_count": 58,
   "id": "ffa7c2bb-ebdd-48bc-946f-747b7fe0b36a",
   "metadata": {},
   "outputs": [
    {
     "data": {
      "text/plain": [
       "Text(0, 0.5, 'Count')"
      ]
     },
     "execution_count": 58,
     "metadata": {},
     "output_type": "execute_result"
    },
    {
     "data": {
      "image/png": "[encoded data removed]",
      "text/plain": [
       "<Figure size 2000x1000 with 1 Axes>"
      ]
     },
     "metadata": {},
     "output_type": "display_data"
    }
   ],
   "source": [
    "plt.hist(data5.bath,rwidth=0.8)\n",
    "plt.xlabel(\"Number of bathrooms\")\n",
    "plt.ylabel(\"Count\")"
   ]
  },
  {
   "cell_type": "code",
   "execution_count": 59,
   "id": "78eb33de-012a-4475-9e80-e65fa7efa03c",
   "metadata": {},
   "outputs": [
    {
     "data": {
      "text/html": [
       "<div>\n",
       "<style scoped>\n",
       "    .dataframe tbody tr th:only-of-type {\n",
       "        vertical-align: middle;\n",
       "    }\n",
       "\n",
       "    .dataframe tbody tr th {\n",
       "        vertical-align: top;\n",
       "    }\n",
       "\n",
       "    .dataframe thead th {\n",
       "        text-align: right;\n",
       "    }\n",
       "</style>\n",
       "<table border=\"1\" class=\"dataframe\">\n",
       "  <thead>\n",
       "    <tr style=\"text-align: right;\">\n",
       "      <th></th>\n",
       "      <th>citi</th>\n",
       "      <th>bed</th>\n",
       "      <th>bath</th>\n",
       "      <th>sqft</th>\n",
       "      <th>price</th>\n",
       "      <th>price_per_sqft</th>\n",
       "    </tr>\n",
       "  </thead>\n",
       "  <tbody>\n",
       "    <tr>\n",
       "      <th>551</th>\n",
       "      <td>Bakersfield, CA</td>\n",
       "      <td>10</td>\n",
       "      <td>8</td>\n",
       "      <td>3784</td>\n",
       "      <td>475000</td>\n",
       "      <td>126.0</td>\n",
       "    </tr>\n",
       "    <tr>\n",
       "      <th>701</th>\n",
       "      <td>Big Bear, CA</td>\n",
       "      <td>7</td>\n",
       "      <td>7</td>\n",
       "      <td>6860</td>\n",
       "      <td>1350000</td>\n",
       "      <td>197.0</td>\n",
       "    </tr>\n",
       "    <tr>\n",
       "      <th>3317</th>\n",
       "      <td>Hesperia, CA</td>\n",
       "      <td>9</td>\n",
       "      <td>8</td>\n",
       "      <td>17667</td>\n",
       "      <td>1999888</td>\n",
       "      <td>113.0</td>\n",
       "    </tr>\n",
       "    <tr>\n",
       "      <th>3825</th>\n",
       "      <td>La Habra Heights, CA</td>\n",
       "      <td>5</td>\n",
       "      <td>7</td>\n",
       "      <td>4751</td>\n",
       "      <td>1990000</td>\n",
       "      <td>419.0</td>\n",
       "    </tr>\n",
       "    <tr>\n",
       "      <th>4712</th>\n",
       "      <td>Lancaster, CA</td>\n",
       "      <td>4</td>\n",
       "      <td>36</td>\n",
       "      <td>1229</td>\n",
       "      <td>240000</td>\n",
       "      <td>195.0</td>\n",
       "    </tr>\n",
       "    <tr>\n",
       "      <th>7940</th>\n",
       "      <td>Rancho Mirage, CA</td>\n",
       "      <td>4</td>\n",
       "      <td>7</td>\n",
       "      <td>6462</td>\n",
       "      <td>1995000</td>\n",
       "      <td>309.0</td>\n",
       "    </tr>\n",
       "    <tr>\n",
       "      <th>8119</th>\n",
       "      <td>Redlands, CA</td>\n",
       "      <td>3</td>\n",
       "      <td>0</td>\n",
       "      <td>1648</td>\n",
       "      <td>450000</td>\n",
       "      <td>273.0</td>\n",
       "    </tr>\n",
       "    <tr>\n",
       "      <th>8123</th>\n",
       "      <td>Redlands, CA</td>\n",
       "      <td>3</td>\n",
       "      <td>0</td>\n",
       "      <td>1648</td>\n",
       "      <td>450000</td>\n",
       "      <td>273.0</td>\n",
       "    </tr>\n",
       "    <tr>\n",
       "      <th>9767</th>\n",
       "      <td>Santa Paula, CA</td>\n",
       "      <td>3</td>\n",
       "      <td>0</td>\n",
       "      <td>2625</td>\n",
       "      <td>840000</td>\n",
       "      <td>320.0</td>\n",
       "    </tr>\n",
       "    <tr>\n",
       "      <th>9768</th>\n",
       "      <td>Santa Paula, CA</td>\n",
       "      <td>3</td>\n",
       "      <td>0</td>\n",
       "      <td>2924</td>\n",
       "      <td>825000</td>\n",
       "      <td>282.0</td>\n",
       "    </tr>\n",
       "    <tr>\n",
       "      <th>9843</th>\n",
       "      <td>Seal Beach, CA</td>\n",
       "      <td>2</td>\n",
       "      <td>0</td>\n",
       "      <td>900</td>\n",
       "      <td>229000</td>\n",
       "      <td>254.0</td>\n",
       "    </tr>\n",
       "    <tr>\n",
       "      <th>10143</th>\n",
       "      <td>Temecula, CA</td>\n",
       "      <td>8</td>\n",
       "      <td>7</td>\n",
       "      <td>4036</td>\n",
       "      <td>1349000</td>\n",
       "      <td>334.0</td>\n",
       "    </tr>\n",
       "    <tr>\n",
       "      <th>10151</th>\n",
       "      <td>Temecula, CA</td>\n",
       "      <td>6</td>\n",
       "      <td>8</td>\n",
       "      <td>5883</td>\n",
       "      <td>1795000</td>\n",
       "      <td>305.0</td>\n",
       "    </tr>\n",
       "    <tr>\n",
       "      <th>10465</th>\n",
       "      <td>Upland, CA</td>\n",
       "      <td>7</td>\n",
       "      <td>7</td>\n",
       "      <td>6576</td>\n",
       "      <td>1639000</td>\n",
       "      <td>249.0</td>\n",
       "    </tr>\n",
       "    <tr>\n",
       "      <th>11425</th>\n",
       "      <td>other</td>\n",
       "      <td>6</td>\n",
       "      <td>7</td>\n",
       "      <td>5265</td>\n",
       "      <td>1980000</td>\n",
       "      <td>376.0</td>\n",
       "    </tr>\n",
       "    <tr>\n",
       "      <th>11742</th>\n",
       "      <td>other</td>\n",
       "      <td>5</td>\n",
       "      <td>7</td>\n",
       "      <td>4400</td>\n",
       "      <td>1390000</td>\n",
       "      <td>316.0</td>\n",
       "    </tr>\n",
       "  </tbody>\n",
       "</table>\n",
       "</div>"
      ],
      "text/plain": [
       "                       citi  bed  bath   sqft    price  price_per_sqft\n",
       "551         Bakersfield, CA   10     8   3784   475000           126.0\n",
       "701            Big Bear, CA    7     7   6860  1350000           197.0\n",
       "3317           Hesperia, CA    9     8  17667  1999888           113.0\n",
       "3825   La Habra Heights, CA    5     7   4751  1990000           419.0\n",
       "4712          Lancaster, CA    4    36   1229   240000           195.0\n",
       "7940      Rancho Mirage, CA    4     7   6462  1995000           309.0\n",
       "8119           Redlands, CA    3     0   1648   450000           273.0\n",
       "8123           Redlands, CA    3     0   1648   450000           273.0\n",
       "9767        Santa Paula, CA    3     0   2625   840000           320.0\n",
       "9768        Santa Paula, CA    3     0   2924   825000           282.0\n",
       "9843         Seal Beach, CA    2     0    900   229000           254.0\n",
       "10143          Temecula, CA    8     7   4036  1349000           334.0\n",
       "10151          Temecula, CA    6     8   5883  1795000           305.0\n",
       "10465            Upland, CA    7     7   6576  1639000           249.0\n",
       "11425                 other    6     7   5265  1980000           376.0\n",
       "11742                 other    5     7   4400  1390000           316.0"
      ]
     },
     "execution_count": 59,
     "metadata": {},
     "output_type": "execute_result"
    }
   ],
   "source": [
    "data5[(data5.bath > 6) | (data5.bath < 1)]"
   ]
  },
  {
   "cell_type": "code",
   "execution_count": 60,
   "id": "45858013-568c-4c83-ace2-42fddf685565",
   "metadata": {},
   "outputs": [
    {
     "data": {
      "text/plain": [
       "(9564, 6)"
      ]
     },
     "execution_count": 60,
     "metadata": {},
     "output_type": "execute_result"
    }
   ],
   "source": [
    "data5.shape"
   ]
  },
  {
   "cell_type": "code",
   "execution_count": 61,
   "id": "3d73c0eb-db0f-4809-889d-2287aefc5b20",
   "metadata": {},
   "outputs": [],
   "source": [
    "data6 = data5[(data5.bath <= 6) & (data5.bath >= 1)]"
   ]
  },
  {
   "cell_type": "code",
   "execution_count": 62,
   "id": "643c4403-0199-4f79-9a37-a725ffc8901b",
   "metadata": {},
   "outputs": [
    {
     "data": {
      "text/plain": [
       "(9548, 6)"
      ]
     },
     "execution_count": 62,
     "metadata": {},
     "output_type": "execute_result"
    }
   ],
   "source": [
    "data6.shape"
   ]
  },
  {
   "cell_type": "code",
   "execution_count": 63,
   "id": "74d6e354-89ec-4f34-b81d-7dfce14ea0d5",
   "metadata": {},
   "outputs": [
    {
     "data": {
      "text/html": [
       "<div>\n",
       "<style scoped>\n",
       "    .dataframe tbody tr th:only-of-type {\n",
       "        vertical-align: middle;\n",
       "    }\n",
       "\n",
       "    .dataframe tbody tr th {\n",
       "        vertical-align: top;\n",
       "    }\n",
       "\n",
       "    .dataframe thead th {\n",
       "        text-align: right;\n",
       "    }\n",
       "</style>\n",
       "<table border=\"1\" class=\"dataframe\">\n",
       "  <thead>\n",
       "    <tr style=\"text-align: right;\">\n",
       "      <th></th>\n",
       "      <th>citi</th>\n",
       "      <th>bed</th>\n",
       "      <th>bath</th>\n",
       "      <th>sqft</th>\n",
       "      <th>price</th>\n",
       "      <th>price_per_sqft</th>\n",
       "    </tr>\n",
       "  </thead>\n",
       "  <tbody>\n",
       "  </tbody>\n",
       "</table>\n",
       "</div>"
      ],
      "text/plain": [
       "Empty DataFrame\n",
       "Columns: [citi, bed, bath, sqft, price, price_per_sqft]\n",
       "Index: []"
      ]
     },
     "execution_count": 63,
     "metadata": {},
     "output_type": "execute_result"
    }
   ],
   "source": [
    "data6[(data6.bath > data6.bed+2)]"
   ]
  },
  {
   "cell_type": "code",
   "execution_count": 64,
   "id": "1eef8bc2-3a0b-46fc-b22f-80a9df56d73b",
   "metadata": {},
   "outputs": [],
   "source": [
    "data7 = data6[~(data6.bath > data6.bed+2)]"
   ]
  },
  {
   "cell_type": "code",
   "execution_count": 65,
   "id": "269c9a5e-42fa-4a9a-ad51-3a839eb599a8",
   "metadata": {},
   "outputs": [
    {
     "data": {
      "text/plain": [
       "(9548, 6)"
      ]
     },
     "execution_count": 65,
     "metadata": {},
     "output_type": "execute_result"
    }
   ],
   "source": [
    "data7.shape"
   ]
  },
  {
   "cell_type": "code",
   "execution_count": 66,
   "id": "65a79355-fd6c-4eb6-98c7-64008c32e5cd",
   "metadata": {},
   "outputs": [
    {
     "data": {
      "text/html": [
       "<div>\n",
       "<style scoped>\n",
       "    .dataframe tbody tr th:only-of-type {\n",
       "        vertical-align: middle;\n",
       "    }\n",
       "\n",
       "    .dataframe tbody tr th {\n",
       "        vertical-align: top;\n",
       "    }\n",
       "\n",
       "    .dataframe thead th {\n",
       "        text-align: right;\n",
       "    }\n",
       "</style>\n",
       "<table border=\"1\" class=\"dataframe\">\n",
       "  <thead>\n",
       "    <tr style=\"text-align: right;\">\n",
       "      <th></th>\n",
       "      <th>citi</th>\n",
       "      <th>bed</th>\n",
       "      <th>bath</th>\n",
       "      <th>sqft</th>\n",
       "      <th>price</th>\n",
       "      <th>price_per_sqft</th>\n",
       "    </tr>\n",
       "  </thead>\n",
       "  <tbody>\n",
       "    <tr>\n",
       "      <th>0</th>\n",
       "      <td>Acton, CA</td>\n",
       "      <td>3</td>\n",
       "      <td>2</td>\n",
       "      <td>1440</td>\n",
       "      <td>249000</td>\n",
       "      <td>173.0</td>\n",
       "    </tr>\n",
       "    <tr>\n",
       "      <th>1</th>\n",
       "      <td>Acton, CA</td>\n",
       "      <td>3</td>\n",
       "      <td>2</td>\n",
       "      <td>1440</td>\n",
       "      <td>249000</td>\n",
       "      <td>173.0</td>\n",
       "    </tr>\n",
       "    <tr>\n",
       "      <th>2</th>\n",
       "      <td>Acton, CA</td>\n",
       "      <td>4</td>\n",
       "      <td>2</td>\n",
       "      <td>1536</td>\n",
       "      <td>439000</td>\n",
       "      <td>286.0</td>\n",
       "    </tr>\n",
       "    <tr>\n",
       "      <th>3</th>\n",
       "      <td>Acton, CA</td>\n",
       "      <td>3</td>\n",
       "      <td>2</td>\n",
       "      <td>1816</td>\n",
       "      <td>499900</td>\n",
       "      <td>275.0</td>\n",
       "    </tr>\n",
       "    <tr>\n",
       "      <th>4</th>\n",
       "      <td>Acton, CA</td>\n",
       "      <td>4</td>\n",
       "      <td>2</td>\n",
       "      <td>1571</td>\n",
       "      <td>499000</td>\n",
       "      <td>318.0</td>\n",
       "    </tr>\n",
       "  </tbody>\n",
       "</table>\n",
       "</div>"
      ],
      "text/plain": [
       "        citi  bed  bath  sqft   price  price_per_sqft\n",
       "0  Acton, CA    3     2  1440  249000           173.0\n",
       "1  Acton, CA    3     2  1440  249000           173.0\n",
       "2  Acton, CA    4     2  1536  439000           286.0\n",
       "3  Acton, CA    3     2  1816  499900           275.0\n",
       "4  Acton, CA    4     2  1571  499000           318.0"
      ]
     },
     "execution_count": 66,
     "metadata": {},
     "output_type": "execute_result"
    }
   ],
   "source": [
    "data7.head()"
   ]
  },
  {
   "cell_type": "code",
   "execution_count": 67,
   "id": "dde7e20e-e58e-4f7b-8b74-1048b30cb5d1",
   "metadata": {},
   "outputs": [
    {
     "data": {
      "text/html": [
       "<div>\n",
       "<style scoped>\n",
       "    .dataframe tbody tr th:only-of-type {\n",
       "        vertical-align: middle;\n",
       "    }\n",
       "\n",
       "    .dataframe tbody tr th {\n",
       "        vertical-align: top;\n",
       "    }\n",
       "\n",
       "    .dataframe thead th {\n",
       "        text-align: right;\n",
       "    }\n",
       "</style>\n",
       "<table border=\"1\" class=\"dataframe\">\n",
       "  <thead>\n",
       "    <tr style=\"text-align: right;\">\n",
       "      <th></th>\n",
       "      <th>citi</th>\n",
       "      <th>bed</th>\n",
       "      <th>bath</th>\n",
       "      <th>sqft</th>\n",
       "      <th>price</th>\n",
       "    </tr>\n",
       "  </thead>\n",
       "  <tbody>\n",
       "    <tr>\n",
       "      <th>0</th>\n",
       "      <td>Acton, CA</td>\n",
       "      <td>3</td>\n",
       "      <td>2</td>\n",
       "      <td>1440</td>\n",
       "      <td>249000</td>\n",
       "    </tr>\n",
       "    <tr>\n",
       "      <th>1</th>\n",
       "      <td>Acton, CA</td>\n",
       "      <td>3</td>\n",
       "      <td>2</td>\n",
       "      <td>1440</td>\n",
       "      <td>249000</td>\n",
       "    </tr>\n",
       "    <tr>\n",
       "      <th>2</th>\n",
       "      <td>Acton, CA</td>\n",
       "      <td>4</td>\n",
       "      <td>2</td>\n",
       "      <td>1536</td>\n",
       "      <td>439000</td>\n",
       "    </tr>\n",
       "    <tr>\n",
       "      <th>3</th>\n",
       "      <td>Acton, CA</td>\n",
       "      <td>3</td>\n",
       "      <td>2</td>\n",
       "      <td>1816</td>\n",
       "      <td>499900</td>\n",
       "    </tr>\n",
       "    <tr>\n",
       "      <th>4</th>\n",
       "      <td>Acton, CA</td>\n",
       "      <td>4</td>\n",
       "      <td>2</td>\n",
       "      <td>1571</td>\n",
       "      <td>499000</td>\n",
       "    </tr>\n",
       "  </tbody>\n",
       "</table>\n",
       "</div>"
      ],
      "text/plain": [
       "        citi  bed  bath  sqft   price\n",
       "0  Acton, CA    3     2  1440  249000\n",
       "1  Acton, CA    3     2  1440  249000\n",
       "2  Acton, CA    4     2  1536  439000\n",
       "3  Acton, CA    3     2  1816  499900\n",
       "4  Acton, CA    4     2  1571  499000"
      ]
     },
     "execution_count": 67,
     "metadata": {},
     "output_type": "execute_result"
    }
   ],
   "source": [
    "data8 = data7.drop(['price_per_sqft'],axis='columns')\n",
    "data8.head()"
   ]
  },
  {
   "cell_type": "code",
   "execution_count": 68,
   "id": "1666973a-b707-421c-b37a-75c35d10743a",
   "metadata": {},
   "outputs": [
    {
     "data": {
      "text/html": [
       "<div>\n",
       "<style scoped>\n",
       "    .dataframe tbody tr th:only-of-type {\n",
       "        vertical-align: middle;\n",
       "    }\n",
       "\n",
       "    .dataframe tbody tr th {\n",
       "        vertical-align: top;\n",
       "    }\n",
       "\n",
       "    .dataframe thead th {\n",
       "        text-align: right;\n",
       "    }\n",
       "</style>\n",
       "<table border=\"1\" class=\"dataframe\">\n",
       "  <thead>\n",
       "    <tr style=\"text-align: right;\">\n",
       "      <th></th>\n",
       "      <th>Acton, CA</th>\n",
       "      <th>Adelanto, CA</th>\n",
       "      <th>Agoura Hills, CA</th>\n",
       "      <th>Alhambra, CA</th>\n",
       "      <th>Aliso Viejo, CA</th>\n",
       "      <th>Alpine, CA</th>\n",
       "      <th>Alta Loma, CA</th>\n",
       "      <th>Altadena, CA</th>\n",
       "      <th>Anaheim Hills, CA</th>\n",
       "      <th>Anaheim, CA</th>\n",
       "      <th>...</th>\n",
       "      <th>Whittier, CA</th>\n",
       "      <th>Wildomar, CA</th>\n",
       "      <th>Winchester, CA</th>\n",
       "      <th>Winnetka, CA</th>\n",
       "      <th>Woodland Hills, CA</th>\n",
       "      <th>Wrightwood, CA</th>\n",
       "      <th>Yorba Linda, CA</th>\n",
       "      <th>Yucaipa, CA</th>\n",
       "      <th>Yucca Valley, CA</th>\n",
       "      <th>other</th>\n",
       "    </tr>\n",
       "  </thead>\n",
       "  <tbody>\n",
       "    <tr>\n",
       "      <th>0</th>\n",
       "      <td>1</td>\n",
       "      <td>0</td>\n",
       "      <td>0</td>\n",
       "      <td>0</td>\n",
       "      <td>0</td>\n",
       "      <td>0</td>\n",
       "      <td>0</td>\n",
       "      <td>0</td>\n",
       "      <td>0</td>\n",
       "      <td>0</td>\n",
       "      <td>...</td>\n",
       "      <td>0</td>\n",
       "      <td>0</td>\n",
       "      <td>0</td>\n",
       "      <td>0</td>\n",
       "      <td>0</td>\n",
       "      <td>0</td>\n",
       "      <td>0</td>\n",
       "      <td>0</td>\n",
       "      <td>0</td>\n",
       "      <td>0</td>\n",
       "    </tr>\n",
       "    <tr>\n",
       "      <th>1</th>\n",
       "      <td>1</td>\n",
       "      <td>0</td>\n",
       "      <td>0</td>\n",
       "      <td>0</td>\n",
       "      <td>0</td>\n",
       "      <td>0</td>\n",
       "      <td>0</td>\n",
       "      <td>0</td>\n",
       "      <td>0</td>\n",
       "      <td>0</td>\n",
       "      <td>...</td>\n",
       "      <td>0</td>\n",
       "      <td>0</td>\n",
       "      <td>0</td>\n",
       "      <td>0</td>\n",
       "      <td>0</td>\n",
       "      <td>0</td>\n",
       "      <td>0</td>\n",
       "      <td>0</td>\n",
       "      <td>0</td>\n",
       "      <td>0</td>\n",
       "    </tr>\n",
       "    <tr>\n",
       "      <th>2</th>\n",
       "      <td>1</td>\n",
       "      <td>0</td>\n",
       "      <td>0</td>\n",
       "      <td>0</td>\n",
       "      <td>0</td>\n",
       "      <td>0</td>\n",
       "      <td>0</td>\n",
       "      <td>0</td>\n",
       "      <td>0</td>\n",
       "      <td>0</td>\n",
       "      <td>...</td>\n",
       "      <td>0</td>\n",
       "      <td>0</td>\n",
       "      <td>0</td>\n",
       "      <td>0</td>\n",
       "      <td>0</td>\n",
       "      <td>0</td>\n",
       "      <td>0</td>\n",
       "      <td>0</td>\n",
       "      <td>0</td>\n",
       "      <td>0</td>\n",
       "    </tr>\n",
       "    <tr>\n",
       "      <th>3</th>\n",
       "      <td>1</td>\n",
       "      <td>0</td>\n",
       "      <td>0</td>\n",
       "      <td>0</td>\n",
       "      <td>0</td>\n",
       "      <td>0</td>\n",
       "      <td>0</td>\n",
       "      <td>0</td>\n",
       "      <td>0</td>\n",
       "      <td>0</td>\n",
       "      <td>...</td>\n",
       "      <td>0</td>\n",
       "      <td>0</td>\n",
       "      <td>0</td>\n",
       "      <td>0</td>\n",
       "      <td>0</td>\n",
       "      <td>0</td>\n",
       "      <td>0</td>\n",
       "      <td>0</td>\n",
       "      <td>0</td>\n",
       "      <td>0</td>\n",
       "    </tr>\n",
       "    <tr>\n",
       "      <th>4</th>\n",
       "      <td>1</td>\n",
       "      <td>0</td>\n",
       "      <td>0</td>\n",
       "      <td>0</td>\n",
       "      <td>0</td>\n",
       "      <td>0</td>\n",
       "      <td>0</td>\n",
       "      <td>0</td>\n",
       "      <td>0</td>\n",
       "      <td>0</td>\n",
       "      <td>...</td>\n",
       "      <td>0</td>\n",
       "      <td>0</td>\n",
       "      <td>0</td>\n",
       "      <td>0</td>\n",
       "      <td>0</td>\n",
       "      <td>0</td>\n",
       "      <td>0</td>\n",
       "      <td>0</td>\n",
       "      <td>0</td>\n",
       "      <td>0</td>\n",
       "    </tr>\n",
       "  </tbody>\n",
       "</table>\n",
       "<p>5 rows × 245 columns</p>\n",
       "</div>"
      ],
      "text/plain": [
       "   Acton, CA  Adelanto, CA  Agoura Hills, CA  Alhambra, CA  Aliso Viejo, CA  \\\n",
       "0          1             0                 0             0                0   \n",
       "1          1             0                 0             0                0   \n",
       "2          1             0                 0             0                0   \n",
       "3          1             0                 0             0                0   \n",
       "4          1             0                 0             0                0   \n",
       "\n",
       "   Alpine, CA  Alta Loma, CA  Altadena, CA  Anaheim Hills, CA  Anaheim, CA  \\\n",
       "0           0              0             0                  0            0   \n",
       "1           0              0             0                  0            0   \n",
       "2           0              0             0                  0            0   \n",
       "3           0              0             0                  0            0   \n",
       "4           0              0             0                  0            0   \n",
       "\n",
       "   ...  Whittier, CA  Wildomar, CA  Winchester, CA  Winnetka, CA  \\\n",
       "0  ...             0             0               0             0   \n",
       "1  ...             0             0               0             0   \n",
       "2  ...             0             0               0             0   \n",
       "3  ...             0             0               0             0   \n",
       "4  ...             0             0               0             0   \n",
       "\n",
       "   Woodland Hills, CA  Wrightwood, CA  Yorba Linda, CA  Yucaipa, CA  \\\n",
       "0                   0               0                0            0   \n",
       "1                   0               0                0            0   \n",
       "2                   0               0                0            0   \n",
       "3                   0               0                0            0   \n",
       "4                   0               0                0            0   \n",
       "\n",
       "   Yucca Valley, CA  other  \n",
       "0                 0      0  \n",
       "1                 0      0  \n",
       "2                 0      0  \n",
       "3                 0      0  \n",
       "4                 0      0  \n",
       "\n",
       "[5 rows x 245 columns]"
      ]
     },
     "execution_count": 68,
     "metadata": {},
     "output_type": "execute_result"
    }
   ],
   "source": [
    "dummies = pd.get_dummies(data8['citi'], dtype=int)\n",
    "dummies.head()"
   ]
  },
  {
   "cell_type": "code",
   "execution_count": 69,
   "id": "584f75dd-038a-4c28-88fd-28f911c5787b",
   "metadata": {},
   "outputs": [
    {
     "data": {
      "text/html": [
       "<div>\n",
       "<style scoped>\n",
       "    .dataframe tbody tr th:only-of-type {\n",
       "        vertical-align: middle;\n",
       "    }\n",
       "\n",
       "    .dataframe tbody tr th {\n",
       "        vertical-align: top;\n",
       "    }\n",
       "\n",
       "    .dataframe thead th {\n",
       "        text-align: right;\n",
       "    }\n",
       "</style>\n",
       "<table border=\"1\" class=\"dataframe\">\n",
       "  <thead>\n",
       "    <tr style=\"text-align: right;\">\n",
       "      <th></th>\n",
       "      <th>citi</th>\n",
       "      <th>bed</th>\n",
       "      <th>bath</th>\n",
       "      <th>sqft</th>\n",
       "      <th>price</th>\n",
       "      <th>Acton, CA</th>\n",
       "      <th>Adelanto, CA</th>\n",
       "      <th>Agoura Hills, CA</th>\n",
       "      <th>Alhambra, CA</th>\n",
       "      <th>Aliso Viejo, CA</th>\n",
       "      <th>...</th>\n",
       "      <th>Westminster, CA</th>\n",
       "      <th>Whittier, CA</th>\n",
       "      <th>Wildomar, CA</th>\n",
       "      <th>Winchester, CA</th>\n",
       "      <th>Winnetka, CA</th>\n",
       "      <th>Woodland Hills, CA</th>\n",
       "      <th>Wrightwood, CA</th>\n",
       "      <th>Yorba Linda, CA</th>\n",
       "      <th>Yucaipa, CA</th>\n",
       "      <th>Yucca Valley, CA</th>\n",
       "    </tr>\n",
       "  </thead>\n",
       "  <tbody>\n",
       "    <tr>\n",
       "      <th>0</th>\n",
       "      <td>Acton, CA</td>\n",
       "      <td>3</td>\n",
       "      <td>2</td>\n",
       "      <td>1440</td>\n",
       "      <td>249000</td>\n",
       "      <td>1</td>\n",
       "      <td>0</td>\n",
       "      <td>0</td>\n",
       "      <td>0</td>\n",
       "      <td>0</td>\n",
       "      <td>...</td>\n",
       "      <td>0</td>\n",
       "      <td>0</td>\n",
       "      <td>0</td>\n",
       "      <td>0</td>\n",
       "      <td>0</td>\n",
       "      <td>0</td>\n",
       "      <td>0</td>\n",
       "      <td>0</td>\n",
       "      <td>0</td>\n",
       "      <td>0</td>\n",
       "    </tr>\n",
       "    <tr>\n",
       "      <th>1</th>\n",
       "      <td>Acton, CA</td>\n",
       "      <td>3</td>\n",
       "      <td>2</td>\n",
       "      <td>1440</td>\n",
       "      <td>249000</td>\n",
       "      <td>1</td>\n",
       "      <td>0</td>\n",
       "      <td>0</td>\n",
       "      <td>0</td>\n",
       "      <td>0</td>\n",
       "      <td>...</td>\n",
       "      <td>0</td>\n",
       "      <td>0</td>\n",
       "      <td>0</td>\n",
       "      <td>0</td>\n",
       "      <td>0</td>\n",
       "      <td>0</td>\n",
       "      <td>0</td>\n",
       "      <td>0</td>\n",
       "      <td>0</td>\n",
       "      <td>0</td>\n",
       "    </tr>\n",
       "    <tr>\n",
       "      <th>2</th>\n",
       "      <td>Acton, CA</td>\n",
       "      <td>4</td>\n",
       "      <td>2</td>\n",
       "      <td>1536</td>\n",
       "      <td>439000</td>\n",
       "      <td>1</td>\n",
       "      <td>0</td>\n",
       "      <td>0</td>\n",
       "      <td>0</td>\n",
       "      <td>0</td>\n",
       "      <td>...</td>\n",
       "      <td>0</td>\n",
       "      <td>0</td>\n",
       "      <td>0</td>\n",
       "      <td>0</td>\n",
       "      <td>0</td>\n",
       "      <td>0</td>\n",
       "      <td>0</td>\n",
       "      <td>0</td>\n",
       "      <td>0</td>\n",
       "      <td>0</td>\n",
       "    </tr>\n",
       "    <tr>\n",
       "      <th>3</th>\n",
       "      <td>Acton, CA</td>\n",
       "      <td>3</td>\n",
       "      <td>2</td>\n",
       "      <td>1816</td>\n",
       "      <td>499900</td>\n",
       "      <td>1</td>\n",
       "      <td>0</td>\n",
       "      <td>0</td>\n",
       "      <td>0</td>\n",
       "      <td>0</td>\n",
       "      <td>...</td>\n",
       "      <td>0</td>\n",
       "      <td>0</td>\n",
       "      <td>0</td>\n",
       "      <td>0</td>\n",
       "      <td>0</td>\n",
       "      <td>0</td>\n",
       "      <td>0</td>\n",
       "      <td>0</td>\n",
       "      <td>0</td>\n",
       "      <td>0</td>\n",
       "    </tr>\n",
       "    <tr>\n",
       "      <th>4</th>\n",
       "      <td>Acton, CA</td>\n",
       "      <td>4</td>\n",
       "      <td>2</td>\n",
       "      <td>1571</td>\n",
       "      <td>499000</td>\n",
       "      <td>1</td>\n",
       "      <td>0</td>\n",
       "      <td>0</td>\n",
       "      <td>0</td>\n",
       "      <td>0</td>\n",
       "      <td>...</td>\n",
       "      <td>0</td>\n",
       "      <td>0</td>\n",
       "      <td>0</td>\n",
       "      <td>0</td>\n",
       "      <td>0</td>\n",
       "      <td>0</td>\n",
       "      <td>0</td>\n",
       "      <td>0</td>\n",
       "      <td>0</td>\n",
       "      <td>0</td>\n",
       "    </tr>\n",
       "  </tbody>\n",
       "</table>\n",
       "<p>5 rows × 249 columns</p>\n",
       "</div>"
      ],
      "text/plain": [
       "        citi  bed  bath  sqft   price  Acton, CA  Adelanto, CA  \\\n",
       "0  Acton, CA    3     2  1440  249000          1             0   \n",
       "1  Acton, CA    3     2  1440  249000          1             0   \n",
       "2  Acton, CA    4     2  1536  439000          1             0   \n",
       "3  Acton, CA    3     2  1816  499900          1             0   \n",
       "4  Acton, CA    4     2  1571  499000          1             0   \n",
       "\n",
       "   Agoura Hills, CA  Alhambra, CA  Aliso Viejo, CA  ...  Westminster, CA  \\\n",
       "0                 0             0                0  ...                0   \n",
       "1                 0             0                0  ...                0   \n",
       "2                 0             0                0  ...                0   \n",
       "3                 0             0                0  ...                0   \n",
       "4                 0             0                0  ...                0   \n",
       "\n",
       "   Whittier, CA  Wildomar, CA  Winchester, CA  Winnetka, CA  \\\n",
       "0             0             0               0             0   \n",
       "1             0             0               0             0   \n",
       "2             0             0               0             0   \n",
       "3             0             0               0             0   \n",
       "4             0             0               0             0   \n",
       "\n",
       "   Woodland Hills, CA  Wrightwood, CA  Yorba Linda, CA  Yucaipa, CA  \\\n",
       "0                   0               0                0            0   \n",
       "1                   0               0                0            0   \n",
       "2                   0               0                0            0   \n",
       "3                   0               0                0            0   \n",
       "4                   0               0                0            0   \n",
       "\n",
       "   Yucca Valley, CA  \n",
       "0                 0  \n",
       "1                 0  \n",
       "2                 0  \n",
       "3                 0  \n",
       "4                 0  \n",
       "\n",
       "[5 rows x 249 columns]"
      ]
     },
     "execution_count": 69,
     "metadata": {},
     "output_type": "execute_result"
    }
   ],
   "source": [
    "data9 = pd.concat([data8,dummies.drop('other',axis='columns')],axis='columns')\n",
    "data9.head()"
   ]
  },
  {
   "cell_type": "code",
   "execution_count": 70,
   "id": "60d743e8-34e7-4df1-b722-7305befa85ff",
   "metadata": {},
   "outputs": [
    {
     "data": {
      "text/html": [
       "<div>\n",
       "<style scoped>\n",
       "    .dataframe tbody tr th:only-of-type {\n",
       "        vertical-align: middle;\n",
       "    }\n",
       "\n",
       "    .dataframe tbody tr th {\n",
       "        vertical-align: top;\n",
       "    }\n",
       "\n",
       "    .dataframe thead th {\n",
       "        text-align: right;\n",
       "    }\n",
       "</style>\n",
       "<table border=\"1\" class=\"dataframe\">\n",
       "  <thead>\n",
       "    <tr style=\"text-align: right;\">\n",
       "      <th></th>\n",
       "      <th>bed</th>\n",
       "      <th>bath</th>\n",
       "      <th>sqft</th>\n",
       "      <th>price</th>\n",
       "      <th>Acton, CA</th>\n",
       "      <th>Adelanto, CA</th>\n",
       "      <th>Agoura Hills, CA</th>\n",
       "      <th>Alhambra, CA</th>\n",
       "      <th>Aliso Viejo, CA</th>\n",
       "      <th>Alpine, CA</th>\n",
       "      <th>...</th>\n",
       "      <th>Westminster, CA</th>\n",
       "      <th>Whittier, CA</th>\n",
       "      <th>Wildomar, CA</th>\n",
       "      <th>Winchester, CA</th>\n",
       "      <th>Winnetka, CA</th>\n",
       "      <th>Woodland Hills, CA</th>\n",
       "      <th>Wrightwood, CA</th>\n",
       "      <th>Yorba Linda, CA</th>\n",
       "      <th>Yucaipa, CA</th>\n",
       "      <th>Yucca Valley, CA</th>\n",
       "    </tr>\n",
       "  </thead>\n",
       "  <tbody>\n",
       "    <tr>\n",
       "      <th>0</th>\n",
       "      <td>3</td>\n",
       "      <td>2</td>\n",
       "      <td>1440</td>\n",
       "      <td>249000</td>\n",
       "      <td>1</td>\n",
       "      <td>0</td>\n",
       "      <td>0</td>\n",
       "      <td>0</td>\n",
       "      <td>0</td>\n",
       "      <td>0</td>\n",
       "      <td>...</td>\n",
       "      <td>0</td>\n",
       "      <td>0</td>\n",
       "      <td>0</td>\n",
       "      <td>0</td>\n",
       "      <td>0</td>\n",
       "      <td>0</td>\n",
       "      <td>0</td>\n",
       "      <td>0</td>\n",
       "      <td>0</td>\n",
       "      <td>0</td>\n",
       "    </tr>\n",
       "    <tr>\n",
       "      <th>1</th>\n",
       "      <td>3</td>\n",
       "      <td>2</td>\n",
       "      <td>1440</td>\n",
       "      <td>249000</td>\n",
       "      <td>1</td>\n",
       "      <td>0</td>\n",
       "      <td>0</td>\n",
       "      <td>0</td>\n",
       "      <td>0</td>\n",
       "      <td>0</td>\n",
       "      <td>...</td>\n",
       "      <td>0</td>\n",
       "      <td>0</td>\n",
       "      <td>0</td>\n",
       "      <td>0</td>\n",
       "      <td>0</td>\n",
       "      <td>0</td>\n",
       "      <td>0</td>\n",
       "      <td>0</td>\n",
       "      <td>0</td>\n",
       "      <td>0</td>\n",
       "    </tr>\n",
       "    <tr>\n",
       "      <th>2</th>\n",
       "      <td>4</td>\n",
       "      <td>2</td>\n",
       "      <td>1536</td>\n",
       "      <td>439000</td>\n",
       "      <td>1</td>\n",
       "      <td>0</td>\n",
       "      <td>0</td>\n",
       "      <td>0</td>\n",
       "      <td>0</td>\n",
       "      <td>0</td>\n",
       "      <td>...</td>\n",
       "      <td>0</td>\n",
       "      <td>0</td>\n",
       "      <td>0</td>\n",
       "      <td>0</td>\n",
       "      <td>0</td>\n",
       "      <td>0</td>\n",
       "      <td>0</td>\n",
       "      <td>0</td>\n",
       "      <td>0</td>\n",
       "      <td>0</td>\n",
       "    </tr>\n",
       "    <tr>\n",
       "      <th>3</th>\n",
       "      <td>3</td>\n",
       "      <td>2</td>\n",
       "      <td>1816</td>\n",
       "      <td>499900</td>\n",
       "      <td>1</td>\n",
       "      <td>0</td>\n",
       "      <td>0</td>\n",
       "      <td>0</td>\n",
       "      <td>0</td>\n",
       "      <td>0</td>\n",
       "      <td>...</td>\n",
       "      <td>0</td>\n",
       "      <td>0</td>\n",
       "      <td>0</td>\n",
       "      <td>0</td>\n",
       "      <td>0</td>\n",
       "      <td>0</td>\n",
       "      <td>0</td>\n",
       "      <td>0</td>\n",
       "      <td>0</td>\n",
       "      <td>0</td>\n",
       "    </tr>\n",
       "    <tr>\n",
       "      <th>4</th>\n",
       "      <td>4</td>\n",
       "      <td>2</td>\n",
       "      <td>1571</td>\n",
       "      <td>499000</td>\n",
       "      <td>1</td>\n",
       "      <td>0</td>\n",
       "      <td>0</td>\n",
       "      <td>0</td>\n",
       "      <td>0</td>\n",
       "      <td>0</td>\n",
       "      <td>...</td>\n",
       "      <td>0</td>\n",
       "      <td>0</td>\n",
       "      <td>0</td>\n",
       "      <td>0</td>\n",
       "      <td>0</td>\n",
       "      <td>0</td>\n",
       "      <td>0</td>\n",
       "      <td>0</td>\n",
       "      <td>0</td>\n",
       "      <td>0</td>\n",
       "    </tr>\n",
       "  </tbody>\n",
       "</table>\n",
       "<p>5 rows × 248 columns</p>\n",
       "</div>"
      ],
      "text/plain": [
       "   bed  bath  sqft   price  Acton, CA  Adelanto, CA  Agoura Hills, CA  \\\n",
       "0    3     2  1440  249000          1             0                 0   \n",
       "1    3     2  1440  249000          1             0                 0   \n",
       "2    4     2  1536  439000          1             0                 0   \n",
       "3    3     2  1816  499900          1             0                 0   \n",
       "4    4     2  1571  499000          1             0                 0   \n",
       "\n",
       "   Alhambra, CA  Aliso Viejo, CA  Alpine, CA  ...  Westminster, CA  \\\n",
       "0             0                0           0  ...                0   \n",
       "1             0                0           0  ...                0   \n",
       "2             0                0           0  ...                0   \n",
       "3             0                0           0  ...                0   \n",
       "4             0                0           0  ...                0   \n",
       "\n",
       "   Whittier, CA  Wildomar, CA  Winchester, CA  Winnetka, CA  \\\n",
       "0             0             0               0             0   \n",
       "1             0             0               0             0   \n",
       "2             0             0               0             0   \n",
       "3             0             0               0             0   \n",
       "4             0             0               0             0   \n",
       "\n",
       "   Woodland Hills, CA  Wrightwood, CA  Yorba Linda, CA  Yucaipa, CA  \\\n",
       "0                   0               0                0            0   \n",
       "1                   0               0                0            0   \n",
       "2                   0               0                0            0   \n",
       "3                   0               0                0            0   \n",
       "4                   0               0                0            0   \n",
       "\n",
       "   Yucca Valley, CA  \n",
       "0                 0  \n",
       "1                 0  \n",
       "2                 0  \n",
       "3                 0  \n",
       "4                 0  \n",
       "\n",
       "[5 rows x 248 columns]"
      ]
     },
     "execution_count": 70,
     "metadata": {},
     "output_type": "execute_result"
    }
   ],
   "source": [
    "data10=data9.drop('citi',axis='columns')\n",
    "data10.head()"
   ]
  },
  {
   "cell_type": "code",
   "execution_count": 71,
   "id": "d7434752-6a59-435f-bbfc-7abab4262228",
   "metadata": {},
   "outputs": [
    {
     "data": {
      "text/plain": [
       "(9548, 248)"
      ]
     },
     "execution_count": 71,
     "metadata": {},
     "output_type": "execute_result"
    }
   ],
   "source": [
    "data10.shape"
   ]
  },
  {
   "cell_type": "code",
   "execution_count": 72,
   "id": "32b44f15-e0f3-42e6-85cf-7e54a5216e81",
   "metadata": {},
   "outputs": [
    {
     "data": {
      "text/html": [
       "<div>\n",
       "<style scoped>\n",
       "    .dataframe tbody tr th:only-of-type {\n",
       "        vertical-align: middle;\n",
       "    }\n",
       "\n",
       "    .dataframe tbody tr th {\n",
       "        vertical-align: top;\n",
       "    }\n",
       "\n",
       "    .dataframe thead th {\n",
       "        text-align: right;\n",
       "    }\n",
       "</style>\n",
       "<table border=\"1\" class=\"dataframe\">\n",
       "  <thead>\n",
       "    <tr style=\"text-align: right;\">\n",
       "      <th></th>\n",
       "      <th>bed</th>\n",
       "      <th>bath</th>\n",
       "      <th>sqft</th>\n",
       "      <th>Acton, CA</th>\n",
       "      <th>Adelanto, CA</th>\n",
       "      <th>Agoura Hills, CA</th>\n",
       "      <th>Alhambra, CA</th>\n",
       "      <th>Aliso Viejo, CA</th>\n",
       "      <th>Alpine, CA</th>\n",
       "      <th>Alta Loma, CA</th>\n",
       "      <th>...</th>\n",
       "      <th>Westminster, CA</th>\n",
       "      <th>Whittier, CA</th>\n",
       "      <th>Wildomar, CA</th>\n",
       "      <th>Winchester, CA</th>\n",
       "      <th>Winnetka, CA</th>\n",
       "      <th>Woodland Hills, CA</th>\n",
       "      <th>Wrightwood, CA</th>\n",
       "      <th>Yorba Linda, CA</th>\n",
       "      <th>Yucaipa, CA</th>\n",
       "      <th>Yucca Valley, CA</th>\n",
       "    </tr>\n",
       "  </thead>\n",
       "  <tbody>\n",
       "    <tr>\n",
       "      <th>0</th>\n",
       "      <td>3</td>\n",
       "      <td>2</td>\n",
       "      <td>1440</td>\n",
       "      <td>1</td>\n",
       "      <td>0</td>\n",
       "      <td>0</td>\n",
       "      <td>0</td>\n",
       "      <td>0</td>\n",
       "      <td>0</td>\n",
       "      <td>0</td>\n",
       "      <td>...</td>\n",
       "      <td>0</td>\n",
       "      <td>0</td>\n",
       "      <td>0</td>\n",
       "      <td>0</td>\n",
       "      <td>0</td>\n",
       "      <td>0</td>\n",
       "      <td>0</td>\n",
       "      <td>0</td>\n",
       "      <td>0</td>\n",
       "      <td>0</td>\n",
       "    </tr>\n",
       "    <tr>\n",
       "      <th>1</th>\n",
       "      <td>3</td>\n",
       "      <td>2</td>\n",
       "      <td>1440</td>\n",
       "      <td>1</td>\n",
       "      <td>0</td>\n",
       "      <td>0</td>\n",
       "      <td>0</td>\n",
       "      <td>0</td>\n",
       "      <td>0</td>\n",
       "      <td>0</td>\n",
       "      <td>...</td>\n",
       "      <td>0</td>\n",
       "      <td>0</td>\n",
       "      <td>0</td>\n",
       "      <td>0</td>\n",
       "      <td>0</td>\n",
       "      <td>0</td>\n",
       "      <td>0</td>\n",
       "      <td>0</td>\n",
       "      <td>0</td>\n",
       "      <td>0</td>\n",
       "    </tr>\n",
       "    <tr>\n",
       "      <th>2</th>\n",
       "      <td>4</td>\n",
       "      <td>2</td>\n",
       "      <td>1536</td>\n",
       "      <td>1</td>\n",
       "      <td>0</td>\n",
       "      <td>0</td>\n",
       "      <td>0</td>\n",
       "      <td>0</td>\n",
       "      <td>0</td>\n",
       "      <td>0</td>\n",
       "      <td>...</td>\n",
       "      <td>0</td>\n",
       "      <td>0</td>\n",
       "      <td>0</td>\n",
       "      <td>0</td>\n",
       "      <td>0</td>\n",
       "      <td>0</td>\n",
       "      <td>0</td>\n",
       "      <td>0</td>\n",
       "      <td>0</td>\n",
       "      <td>0</td>\n",
       "    </tr>\n",
       "  </tbody>\n",
       "</table>\n",
       "<p>3 rows × 247 columns</p>\n",
       "</div>"
      ],
      "text/plain": [
       "   bed  bath  sqft  Acton, CA  Adelanto, CA  Agoura Hills, CA  Alhambra, CA  \\\n",
       "0    3     2  1440          1             0                 0             0   \n",
       "1    3     2  1440          1             0                 0             0   \n",
       "2    4     2  1536          1             0                 0             0   \n",
       "\n",
       "   Aliso Viejo, CA  Alpine, CA  Alta Loma, CA  ...  Westminster, CA  \\\n",
       "0                0           0              0  ...                0   \n",
       "1                0           0              0  ...                0   \n",
       "2                0           0              0  ...                0   \n",
       "\n",
       "   Whittier, CA  Wildomar, CA  Winchester, CA  Winnetka, CA  \\\n",
       "0             0             0               0             0   \n",
       "1             0             0               0             0   \n",
       "2             0             0               0             0   \n",
       "\n",
       "   Woodland Hills, CA  Wrightwood, CA  Yorba Linda, CA  Yucaipa, CA  \\\n",
       "0                   0               0                0            0   \n",
       "1                   0               0                0            0   \n",
       "2                   0               0                0            0   \n",
       "\n",
       "   Yucca Valley, CA  \n",
       "0                 0  \n",
       "1                 0  \n",
       "2                 0  \n",
       "\n",
       "[3 rows x 247 columns]"
      ]
     },
     "execution_count": 72,
     "metadata": {},
     "output_type": "execute_result"
    }
   ],
   "source": [
    "X = data10.drop(['price'],axis='columns')\n",
    "X.head(3)"
   ]
  },
  {
   "cell_type": "code",
   "execution_count": 73,
   "id": "b6e78ab4-9749-477f-a34e-e34e72cebcad",
   "metadata": {},
   "outputs": [
    {
     "data": {
      "text/plain": [
       "(9548, 247)"
      ]
     },
     "execution_count": 73,
     "metadata": {},
     "output_type": "execute_result"
    }
   ],
   "source": [
    "X.shape"
   ]
  },
  {
   "cell_type": "code",
   "execution_count": 74,
   "id": "4434759e-6103-472f-ab98-270f38a9f100",
   "metadata": {},
   "outputs": [
    {
     "data": {
      "text/plain": [
       "0    249000\n",
       "1    249000\n",
       "2    439000\n",
       "Name: price, dtype: int64"
      ]
     },
     "execution_count": 74,
     "metadata": {},
     "output_type": "execute_result"
    }
   ],
   "source": [
    "y = data10.price\n",
    "y.head(3)"
   ]
  },
  {
   "cell_type": "code",
   "execution_count": 75,
   "id": "58ba8d02-3eda-43db-a4b9-9078729acfa9",
   "metadata": {},
   "outputs": [
    {
     "data": {
      "text/plain": [
       "9548"
      ]
     },
     "execution_count": 75,
     "metadata": {},
     "output_type": "execute_result"
    }
   ],
   "source": [
    "len(y)"
   ]
  },
  {
   "cell_type": "code",
   "execution_count": 76,
   "id": "219298c6-fa50-43ce-b353-2efba68998fa",
   "metadata": {},
   "outputs": [],
   "source": [
    "from sklearn.model_selection import train_test_split\n",
    "X_train, X_test, y_train, y_test = train_test_split(X,y,test_size=0.2,random_state=10)"
   ]
  },
  {
   "cell_type": "code",
   "execution_count": 77,
   "id": "78c16d8c-13f5-4f47-a002-6253508592ba",
   "metadata": {},
   "outputs": [
    {
     "data": {
      "text/plain": [
       "0.8534230175086559"
      ]
     },
     "execution_count": 77,
     "metadata": {},
     "output_type": "execute_result"
    }
   ],
   "source": [
    "from sklearn.linear_model import LinearRegression\n",
    "lr_clf = LinearRegression()\n",
    "lr_clf.fit(X_train,y_train)\n",
    "lr_clf.score(X_test,y_test)"
   ]
  },
  {
   "cell_type": "code",
   "execution_count": 78,
   "id": "4b7acc4b-601c-4977-9658-614d51f43b1a",
   "metadata": {},
   "outputs": [
    {
     "data": {
      "text/plain": [
       "array([0.84725463, 0.86242335, 0.85867925, 0.85929625, 0.8544423 ])"
      ]
     },
     "execution_count": 78,
     "metadata": {},
     "output_type": "execute_result"
    }
   ],
   "source": [
    "from sklearn.model_selection import ShuffleSplit\n",
    "from sklearn.model_selection import cross_val_score\n",
    "\n",
    "cv = ShuffleSplit(n_splits=5, test_size=0.2, random_state=0)\n",
    "\n",
    "cross_val_score(LinearRegression(), X, y, cv=cv)"
   ]
  },
  {
   "cell_type": "code",
   "execution_count": 79,
   "id": "12b4d08f-b5a5-4ca1-a413-0013e6cf0941",
   "metadata": {},
   "outputs": [
    {
     "data": {
      "text/html": [
       "<div>\n",
       "<style scoped>\n",
       "    .dataframe tbody tr th:only-of-type {\n",
       "        vertical-align: middle;\n",
       "    }\n",
       "\n",
       "    .dataframe tbody tr th {\n",
       "        vertical-align: top;\n",
       "    }\n",
       "\n",
       "    .dataframe thead th {\n",
       "        text-align: right;\n",
       "    }\n",
       "</style>\n",
       "<table border=\"1\" class=\"dataframe\">\n",
       "  <thead>\n",
       "    <tr style=\"text-align: right;\">\n",
       "      <th></th>\n",
       "      <th>model</th>\n",
       "      <th>best_score</th>\n",
       "      <th>best_params</th>\n",
       "    </tr>\n",
       "  </thead>\n",
       "  <tbody>\n",
       "    <tr>\n",
       "      <th>0</th>\n",
       "      <td>linear_regression</td>\n",
       "      <td>0.856419</td>\n",
       "      <td>{'fit_intercept': True}</td>\n",
       "    </tr>\n",
       "    <tr>\n",
       "      <th>1</th>\n",
       "      <td>sgd_regressor</td>\n",
       "      <td>0.484355</td>\n",
       "      <td>{'alpha': 0.001, 'eta0': 0.5, 'learning_rate':...</td>\n",
       "    </tr>\n",
       "    <tr>\n",
       "      <th>2</th>\n",
       "      <td>decision_tree</td>\n",
       "      <td>0.740268</td>\n",
       "      <td>{'criterion': 'friedman_mse', 'splitter': 'best'}</td>\n",
       "    </tr>\n",
       "  </tbody>\n",
       "</table>\n",
       "</div>"
      ],
      "text/plain": [
       "               model  best_score  \\\n",
       "0  linear_regression    0.856419   \n",
       "1      sgd_regressor    0.484355   \n",
       "2      decision_tree    0.740268   \n",
       "\n",
       "                                         best_params  \n",
       "0                            {'fit_intercept': True}  \n",
       "1  {'alpha': 0.001, 'eta0': 0.5, 'learning_rate':...  \n",
       "2  {'criterion': 'friedman_mse', 'splitter': 'best'}  "
      ]
     },
     "execution_count": 79,
     "metadata": {},
     "output_type": "execute_result"
    }
   ],
   "source": [
    "from sklearn.model_selection import GridSearchCV, ShuffleSplit\n",
    "from sklearn.linear_model import LinearRegression, Lasso, SGDRegressor\n",
    "from sklearn.tree import DecisionTreeRegressor\n",
    "\n",
    "def find_best_model_using_gridsearchcv(X, y):\n",
    "    algos = {\n",
    "        'linear_regression': {\n",
    "            'model': LinearRegression(),\n",
    "            'params': {\n",
    "                'fit_intercept': [True, False]\n",
    "            }\n",
    "        },\n",
    "        'sgd_regressor': {\n",
    "            'model': SGDRegressor(),\n",
    "            'params': {\n",
    "                'loss': ['squared_error', 'huber', 'epsilon_insensitive'],\n",
    "                'penalty': ['l2', 'l1', 'elasticnet'],\n",
    "                'alpha': [0.0001, 0.001, 0.01, 0.1],\n",
    "                'learning_rate': ['constant', 'optimal', 'adaptive'],\n",
    "                'eta0': [0.01, 0.1, 0.5],  \n",
    "                'max_iter': [1000, 2000]\n",
    "            }\n",
    "        },\n",
    "        'decision_tree': {\n",
    "            'model': DecisionTreeRegressor(),\n",
    "            'params': {\n",
    "                'criterion': ['squared_error', 'friedman_mse'],\n",
    "                'splitter': ['best', 'random']\n",
    "            }\n",
    "        }\n",
    "    }\n",
    "    \n",
    "    scores = []\n",
    "    cv = ShuffleSplit(n_splits=5, test_size=0.2, random_state=0)\n",
    "    for algo_name, config in algos.items():\n",
    "        gs = GridSearchCV(config['model'], config['params'], cv=cv, return_train_score=False)\n",
    "        gs.fit(X, y)\n",
    "        scores.append({\n",
    "            'model': algo_name,\n",
    "            'best_score': gs.best_score_,\n",
    "            'best_params': gs.best_params_\n",
    "        })\n",
    "    \n",
    "    return pd.DataFrame(scores, columns=['model', 'best_score', 'best_params'])\n",
    "find_best_model_using_gridsearchcv(X,y)"
   ]
  },
  {
   "cell_type": "code",
   "execution_count": 80,
   "id": "fd53604c-bbd0-40e5-ae9c-68cab36b2396",
   "metadata": {},
   "outputs": [],
   "source": [
    "def predict_price(location, bed, bath, sqft):\n",
    "    input_df = pd.DataFrame(columns=X.columns)\n",
    "    \n",
    "    input_df.loc[0] = 0\n",
    "    \n",
    "    input_df.loc[0, 'bed'] = bed\n",
    "    input_df.loc[0, 'bath'] = bath\n",
    "    input_df.loc[0, 'sqft'] = sqft\n",
    "    \n",
    "    if location in X.columns:\n",
    "        input_df.loc[0, location] = 1\n",
    "    \n",
    "    return lr_clf.predict(input_df)[0]"
   ]
  },
  {
   "cell_type": "code",
   "execution_count": 81,
   "id": "fc307a94-1a08-4123-94df-11fdeb2abdca",
   "metadata": {},
   "outputs": [
    {
     "data": {
      "text/plain": [
       "424477.2808516148"
      ]
     },
     "execution_count": 81,
     "metadata": {},
     "output_type": "execute_result"
    }
   ],
   "source": [
    "predict_price('Acton, CA', 3, 2, 1440)"
   ]
  },
  {
   "cell_type": "code",
   "execution_count": 82,
   "id": "ae44705d-96d4-45cf-8b7a-7845fbed3614",
   "metadata": {},
   "outputs": [
    {
     "data": {
      "text/plain": [
       "1061750.5248543199"
      ]
     },
     "execution_count": 82,
     "metadata": {},
     "output_type": "execute_result"
    }
   ],
   "source": [
    "predict_price('San Diego, CA', 4, 2, 2436)"
   ]
  },
  {
   "cell_type": "code",
   "execution_count": 83,
   "id": "58a3ce1d-f8fc-4caa-ab82-11802e5a0b80",
   "metadata": {},
   "outputs": [
    {
     "data": {
      "text/plain": [
       "989738.3401990063"
      ]
     },
     "execution_count": 83,
     "metadata": {},
     "output_type": "execute_result"
    }
   ],
   "source": [
    "predict_price('Los Angeles, CA', 3, 2, 1970)"
   ]
  },
  {
   "cell_type": "code",
   "execution_count": 84,
   "id": "0d19ae9c-4ca6-4c5f-9cce-50431bde825a",
   "metadata": {},
   "outputs": [],
   "source": [
    "import pickle\n",
    "with open('socal_home_prices_model.pickle','wb') as f:\n",
    "    pickle.dump(lr_clf,f)"
   ]
  },
  {
   "cell_type": "code",
   "execution_count": 118,
   "id": "1a344ad4-3cd8-4d0b-85c1-4f9a67b2393f",
   "metadata": {},
   "outputs": [],
   "source": [
    "import json\n",
    "columns = {\n",
    "    'data_columns' : [col.lower() for col in X.columns]\n",
    "}\n",
    "with open(\"columns.json\",\"w\") as f:\n",
    "    f.write(json.dumps(columns))"
   ]
  },
  {
   "cell_type": "code",
   "execution_count": null,
   "id": "c23858c4-5bc5-4f1b-aefc-d0b781eb74ec",
   "metadata": {},
   "outputs": [],
   "source": []
  }
 ],
 "metadata": {
  "kernelspec": {
   "display_name": "Python 3 (ipykernel)",
   "language": "python",
   "name": "python3"
  },
  "language_info": {
   "codemirror_mode": {
    "name": "ipython",
    "version": 3
   },
   "file_extension": ".py",
   "mimetype": "text/x-python",
   "name": "python",
   "nbconvert_exporter": "python",
   "pygments_lexer": "ipython3",
   "version": "3.12.4"
  }
 },
 "nbformat": 4,
 "nbformat_minor": 5
}
